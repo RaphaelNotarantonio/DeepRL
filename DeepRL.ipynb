{
  "nbformat": 4,
  "nbformat_minor": 0,
  "metadata": {
    "kernelspec": {
      "name": "python3",
      "display_name": "Python 3"
    },
    "language_info": {
      "codemirror_mode": {
        "name": "ipython",
        "version": 3
      },
      "file_extension": ".py",
      "mimetype": "text/x-python",
      "name": "python",
      "nbconvert_exporter": "python",
      "pygments_lexer": "ipython3",
      "version": "3.5.7"
    },
    "colab": {
      "name": "DeepRL",
      "provenance": [],
      "collapsed_sections": []
    },
    "accelerator": "GPU"
  },
  "cells": [
    {
      "cell_type": "markdown",
      "metadata": {
        "id": "lpt7PFgbuN6-",
        "colab_type": "text"
      },
      "source": [
        "**You may need to install [OpenCV](https://pypi.python.org/pypi/opencv-python) and [scikit-video](http://www.scikit-video.org/stable/).**"
      ]
    },
    {
      "cell_type": "code",
      "metadata": {
        "id": "_nXeJNc-wLZ9",
        "colab_type": "code",
        "outputId": "a353c92c-a80a-48d9-85b5-5a39478d4fe7",
        "colab": {
          "base_uri": "https://localhost:8080/",
          "height": 68
        }
      },
      "source": [
        "!pip install sk-video"
      ],
      "execution_count": 28,
      "outputs": [
        {
          "output_type": "stream",
          "text": [
            "Requirement already satisfied: sk-video in /usr/local/lib/python3.6/dist-packages (1.1.10)\n",
            "Requirement already satisfied: numpy in /usr/local/lib/python3.6/dist-packages (from sk-video) (1.17.5)\n",
            "Requirement already satisfied: scipy in /usr/local/lib/python3.6/dist-packages (from sk-video) (1.4.1)\n"
          ],
          "name": "stdout"
        }
      ]
    },
    {
      "cell_type": "code",
      "metadata": {
        "id": "YrdCzoawwP0z",
        "colab_type": "code",
        "outputId": "2eed5f19-e4b6-4b36-deaa-fb856226467f",
        "colab": {
          "base_uri": "https://localhost:8080/",
          "height": 51
        }
      },
      "source": [
        "!pip install opencv-python"
      ],
      "execution_count": 29,
      "outputs": [
        {
          "output_type": "stream",
          "text": [
            "Requirement already satisfied: opencv-python in /usr/local/lib/python3.6/dist-packages (4.1.2.30)\n",
            "Requirement already satisfied: numpy>=1.11.3 in /usr/local/lib/python3.6/dist-packages (from opencv-python) (1.17.5)\n"
          ],
          "name": "stdout"
        }
      ]
    },
    {
      "cell_type": "code",
      "metadata": {
        "id": "oRHk8FqpuN7M",
        "colab_type": "code",
        "colab": {}
      },
      "source": [
        "import keras\n",
        "import numpy as np\n",
        "import io\n",
        "import base64\n",
        "from IPython.display import HTML\n",
        "import skvideo.io\n",
        "import cv2\n",
        "import json\n",
        "\n",
        "from keras.models import Sequential,model_from_json\n",
        "from keras.layers.core import Dense\n",
        "from keras.optimizers import sgd, adam\n",
        "from keras.layers import Conv2D, MaxPooling2D, Activation, AveragePooling2D,Reshape,BatchNormalization, Flatten, Dropout"
      ],
      "execution_count": 0,
      "outputs": []
    },
    {
      "cell_type": "markdown",
      "metadata": {
        "id": "x8sjOzeouN78",
        "colab_type": "text"
      },
      "source": [
        "# MiniProject on Deep Reinforcement Learning"
      ]
    },
    {
      "cell_type": "markdown",
      "metadata": {
        "id": "fWm8tK_iuN8C",
        "colab_type": "text"
      },
      "source": [
        "__Notations__: $E_p$ is the expectation under probability $p$. Please justify each of your answer and widely comment your code."
      ]
    },
    {
      "cell_type": "markdown",
      "metadata": {
        "id": "6TZjXaBkuN8H",
        "colab_type": "text"
      },
      "source": [
        "# Context"
      ]
    },
    {
      "cell_type": "markdown",
      "metadata": {
        "id": "1zfv4AzquN8R",
        "colab_type": "text"
      },
      "source": [
        "In a reinforcement learning algorithm, we modelize each step $t$ as an action $a_t$ obtained from a state $s_t$, i.e. $\\{(a_{t},s_{t})_{t\\leq T}\\}$ having the Markov property. We consider a discount factor $\\gamma \\in [0,1]$ that ensures convergence. The goal is to find among all the policies $\\pi$, one that maximizes the expected reward:\n",
        "\n",
        "\\begin{equation*}\n",
        "R(\\pi)=\\sum_{t\\leq T}E_{p^{\\pi}}[\\gamma^t r(s_{t},a_{t})] \\> ,\n",
        "\\end{equation*}\n",
        "\n",
        "where: \n",
        "\\begin{equation*}p^{\\pi}(a_{0},a_{1},s_{1},...,a_{T},s_{T})=p(a_{0})\\prod_{t=1}^{T}\\pi(a_{t}|s_{t})p(s_{t+1}|s_{t},a_{t}) \\> .\n",
        "\\end{equation*}\n",
        "\n",
        "We note the $Q$-function:\n",
        "\n",
        "\\begin{equation*}Q^\\pi(s,a)=E_{p^{\\pi}}[\\sum_{t\\leq T}\\gamma^{t}r(s_{t},a_{t})|s_{0}=s,a_{0}=a] \\> .\n",
        "\\end{equation*}\n",
        "\n",
        "Thus, the optimal Q function is:\n",
        "\\begin{equation*}\n",
        "Q^*(s,a)=\\max_{\\pi}Q^\\pi(s,a) \\> .\n",
        "\\end{equation*}\n",
        "\n",
        "In this project, we will apply the deep reinforcement learning techniques to a simple game: an agent will have to learn from scratch a policy that will permit it maximizing a reward."
      ]
    },
    {
      "cell_type": "markdown",
      "metadata": {
        "id": "ZlzJB_ypuN8W",
        "colab_type": "text"
      },
      "source": [
        "## The environment, the agent and the game"
      ]
    },
    {
      "cell_type": "markdown",
      "metadata": {
        "id": "2fbM_jowuN8d",
        "colab_type": "text"
      },
      "source": [
        "### The environment"
      ]
    },
    {
      "cell_type": "markdown",
      "metadata": {
        "id": "Zt67pPtxuN8k",
        "colab_type": "text"
      },
      "source": [
        "```Environment``` is an abstract class that represents the states, rewards, and actions to obtain the new state."
      ]
    },
    {
      "cell_type": "code",
      "metadata": {
        "id": "3sFD7jBKuN8r",
        "colab_type": "code",
        "colab": {}
      },
      "source": [
        "class Environment(object):\n",
        "    def __init__(self):\n",
        "        pass\n",
        "\n",
        "    def act(self, act):\n",
        "        \"\"\"\n",
        "        One can act on the environment and obtain its reaction:\n",
        "        - the new state\n",
        "        - the reward of the new state\n",
        "        - should we continue the game?\n",
        "\n",
        "        :return: state, reward, game_over\n",
        "        \"\"\"\n",
        "        pass\n",
        "\n",
        "\n",
        "    def reset(self):\n",
        "        \"\"\"\n",
        "        Reinitialize the environment to a random state and returns\n",
        "        the original state\n",
        "\n",
        "        :return: state\n",
        "        \"\"\"\n",
        "        pass\n",
        "    \n",
        "    def draw(self):\n",
        "        \"\"\"\n",
        "        Visualize in the console or graphically the current state\n",
        "        \"\"\"\n",
        "        pass"
      ],
      "execution_count": 0,
      "outputs": []
    },
    {
      "cell_type": "markdown",
      "metadata": {
        "id": "VrpMM7c1uN9B",
        "colab_type": "text"
      },
      "source": [
        "The method ```act``` allows to act on the environment at a given state $s_t$ (stored internally), via action $a_t$. The method will return the new state $s_{t+1}$, the reward $r(s_{t},a_{t})$ and determines if $t\\leq T$ (*game_over*).\n",
        "\n",
        "The method ```reset``` simply reinitializes the environment to a random state $s_0$.\n",
        "\n",
        "The method ```draw``` displays the current state $s_t$ (this is useful to check the behavior of the Agent).\n",
        "\n",
        "We modelize $s_t$ as a tensor, while $a_t$ is an integer."
      ]
    },
    {
      "cell_type": "markdown",
      "metadata": {
        "id": "KKRMCevQuN9H",
        "colab_type": "text"
      },
      "source": [
        "### The Agent"
      ]
    },
    {
      "cell_type": "markdown",
      "metadata": {
        "id": "4mLD8D3YuN9T",
        "colab_type": "text"
      },
      "source": [
        "The goal of the ```Agent``` is to interact with the ```Environment``` by proposing actions $a_t$ obtained from a given state $s_t$ to attempt to maximize its __reward__ $r(s_t,a_t)$. We propose the following abstract class:"
      ]
    },
    {
      "cell_type": "code",
      "metadata": {
        "id": "LRArrfbduN9Y",
        "colab_type": "code",
        "colab": {}
      },
      "source": [
        "class Agent(object):\n",
        "    def __init__(self, epsilon=0.1, n_action=4):\n",
        "        self.epsilon = epsilon\n",
        "        self.n_action = n_action\n",
        "    \n",
        "    def set_epsilon(self,e):\n",
        "        self.epsilon = e\n",
        "\n",
        "    def act(self,s,train=True):\n",
        "        \"\"\" This function should return the next action to do:\n",
        "        an integer between 0 and 4 (not included) with a random exploration of epsilon\"\"\"\n",
        "        if train:\n",
        "            if np.random.rand() <= self.epsilon:\n",
        "                a = np.random.randint(0, self.n_action, size=1)[0]\n",
        "            else:\n",
        "                a = self.learned_act(s)\n",
        "        else: # in some cases, this can improve the performance.. remove it if poor performances\n",
        "            a = self.learned_act(s)\n",
        "\n",
        "        return a\n",
        "\n",
        "    def learned_act(self,s):\n",
        "        \"\"\" Act via the policy of the agent, from a given state s\n",
        "        it proposes an action a\"\"\"\n",
        "        pass\n",
        "\n",
        "    def reinforce(self, s, n_s, a, r, game_over_):\n",
        "        \"\"\" This function is the core of the learning algorithm. \n",
        "        It takes as an input the current state s_, the next state n_s_\n",
        "        the action a_ used to move from s_ to n_s_ and the reward r_.\n",
        "        \n",
        "        Its goal is to learn a policy.\n",
        "        \"\"\"\n",
        "        pass\n",
        "\n",
        "    def save(self):\n",
        "        \"\"\" This function returns basic stats if applicable: the\n",
        "        loss and/or the model\"\"\"\n",
        "        pass\n",
        "\n",
        "    def load(self):\n",
        "        \"\"\" This function allows to restore a model\"\"\"\n",
        "        pass"
      ],
      "execution_count": 0,
      "outputs": []
    },
    {
      "cell_type": "markdown",
      "metadata": {
        "id": "T72487ftuN9p",
        "colab_type": "text"
      },
      "source": [
        "***\n",
        "__Question 1__:\n",
        "Explain the function act. Why is ```epsilon``` essential?"
      ]
    },
    {
      "cell_type": "markdown",
      "metadata": {
        "id": "KyxVfoh5uN9y",
        "colab_type": "text"
      },
      "source": [
        "The function act is used to mix exploration and exploitation. With no ```epsilon``` there would be no exploration! With a probability ```epsilon``` we explore (try randomly any of the different possible actions, so that the algorithm will discover which one is the best) and with the probabiliy 1 - ```epsilon``` exploit using the best action according to our algorithm so far."
      ]
    },
    {
      "cell_type": "markdown",
      "metadata": {
        "id": "l-110UzFuN94",
        "colab_type": "text"
      },
      "source": [
        "***\n",
        "### The Game"
      ]
    },
    {
      "cell_type": "markdown",
      "metadata": {
        "id": "YFl8cjyyuN-C",
        "colab_type": "text"
      },
      "source": [
        "The ```Agent``` and the ```Environment``` work in an interlaced way as in the following (take some time to understand this code as it is the core of the project)\n",
        "\n",
        "```python\n",
        "\n",
        "epoch = 300\n",
        "env = Environment()\n",
        "agent = Agent()\n",
        "\n",
        "\n",
        "# Number of won games\n",
        "score = 0\n",
        "loss = 0\n",
        "\n",
        "\n",
        "for e in range(epoch):\n",
        "    # At each epoch, we restart to a fresh game and get the initial state\n",
        "    state = env.reset()\n",
        "    # This assumes that the games will end\n",
        "    game_over = False\n",
        "\n",
        "    win = 0\n",
        "    lose = 0\n",
        "    \n",
        "    while not game_over:\n",
        "        # The agent performs an action\n",
        "        action = agent.act(state)\n",
        "\n",
        "        # Apply an action to the environment, get the next state, the reward\n",
        "        # and if the games end\n",
        "        prev_state = state\n",
        "        state, reward, game_over = env.act(action)\n",
        "\n",
        "        # Update the counters\n",
        "        if reward > 0:\n",
        "            win = win + reward\n",
        "        if reward < 0:\n",
        "            lose = lose -reward\n",
        "\n",
        "        # Apply the reinforcement strategy\n",
        "        loss = agent.reinforce(prev_state, state,  action, reward, game_over)\n",
        "\n",
        "    # Save as a mp4\n",
        "    if e % 10 == 0:\n",
        "        env.draw(e)\n",
        "\n",
        "    # Update stats\n",
        "    score += win-lose\n",
        "\n",
        "    print(\"Epoch {:03d}/{:03d} | Loss {:.4f} | Win/lose count {}/{} ({})\"\n",
        "          .format(e, epoch, loss, win, lose, win-lose))\n",
        "    agent.save()\n",
        "```"
      ]
    },
    {
      "cell_type": "markdown",
      "metadata": {
        "id": "oHXkVQjuuN-H",
        "colab_type": "text"
      },
      "source": [
        "# The game, *eat cheese*"
      ]
    },
    {
      "cell_type": "markdown",
      "metadata": {
        "id": "uRepPgrquN-L",
        "colab_type": "text"
      },
      "source": [
        "A rat runs on an island and tries to eat as much as possible. The island is subdivided into $N\\times N$ cells, in which there are cheese (+0.5) and poisonous cells (-1). The rat has a visibility of 2 cells (thus it can see $5^2$ cells). The rat is given a time $T$ to accumulate as much food as possible. It can perform 4 actions: going up, down, left, right. \n",
        "\n",
        "The goal is to code an agent to solve this task that will learn by trial and error. We propose the following environment:"
      ]
    },
    {
      "cell_type": "code",
      "metadata": {
        "id": "H8dTXbt0uN-R",
        "colab_type": "code",
        "colab": {}
      },
      "source": [
        "class Environment(object):\n",
        "    def __init__(self, grid_size=10, max_time=500, temperature=0.1):\n",
        "        grid_size = grid_size+4\n",
        "        self.grid_size = grid_size\n",
        "        self.max_time = max_time\n",
        "        self.temperature = temperature\n",
        "\n",
        "        #board on which one plays\n",
        "        self.board = np.zeros((grid_size,grid_size))\n",
        "        self.position = np.zeros((grid_size,grid_size))\n",
        "\n",
        "        # coordinate of the cat\n",
        "        self.x = 0\n",
        "        self.y = 1\n",
        "\n",
        "        # self time\n",
        "        self.t = 0\n",
        "\n",
        "        self.scale=16\n",
        "\n",
        "        self.to_draw = np.zeros((max_time+2, grid_size*self.scale, grid_size*self.scale, 3))\n",
        "\n",
        "\n",
        "    def draw(self,e):\n",
        "        skvideo.io.vwrite(str(e) + '.mp4', self.to_draw)\n",
        "\n",
        "    def get_frame(self,t):\n",
        "        b = np.zeros((self.grid_size,self.grid_size,3))+128\n",
        "        b[self.board>0,0] = 256\n",
        "        b[self.board < 0, 2] = 256\n",
        "        b[self.x,self.y,:]=256\n",
        "        b[-2:,:,:]=0\n",
        "        b[:,-2:,:]=0\n",
        "        b[:2,:,:]=0\n",
        "        b[:,:2,:]=0\n",
        "        \n",
        "        b =  cv2.resize(b, None, fx=self.scale, fy=self.scale, interpolation=cv2.INTER_NEAREST)\n",
        "\n",
        "        self.to_draw[t,:,:,:]=b\n",
        "\n",
        "\n",
        "    def act(self, action):\n",
        "        \"\"\"This function returns the new state, reward and decides if the\n",
        "        game ends.\"\"\"\n",
        "\n",
        "        self.get_frame(int(self.t))\n",
        "\n",
        "        self.position = np.zeros((self.grid_size, self.grid_size))\n",
        "\n",
        "        self.position[0:2,:]= -1\n",
        "        self.position[:,0:2] = -1\n",
        "        self.position[-2:, :] = -1\n",
        "        self.position[-2:, :] = -1\n",
        "\n",
        "        self.position[self.x, self.y] = 1\n",
        "        if action == 0:\n",
        "            if self.x == self.grid_size-3:\n",
        "                self.x = self.x-1\n",
        "            else:\n",
        "                self.x = self.x + 1\n",
        "        elif action == 1:\n",
        "            if self.x == 2:\n",
        "                self.x = self.x+1\n",
        "            else:\n",
        "                self.x = self.x-1\n",
        "        elif action == 2:\n",
        "            if self.y == self.grid_size - 3:\n",
        "                self.y = self.y - 1\n",
        "            else:\n",
        "                self.y = self.y + 1\n",
        "        elif action == 3:\n",
        "            if self.y == 2:\n",
        "                self.y = self.y + 1\n",
        "            else:\n",
        "                self.y = self.y - 1\n",
        "        else:\n",
        "            RuntimeError('Error: action not recognized')\n",
        "\n",
        "        self.t = self.t + 1\n",
        "        reward = self.board[self.x, self.y]\n",
        "        self.board[self.x, self.y] = 0\n",
        "        game_over = self.t > self.max_time\n",
        "        state = np.concatenate((self.board.reshape(self.grid_size, self.grid_size,1),\n",
        "                        self.position.reshape(self.grid_size, self.grid_size,1)),axis=2)\n",
        "        state = state[self.x-2:self.x+3,self.y-2:self.y+3,:]\n",
        "\n",
        "        return state, reward, game_over\n",
        "\n",
        "    def reset(self):\n",
        "        \"\"\"This function resets the game and returns the initial state\"\"\"\n",
        "\n",
        "        self.x = np.random.randint(3, self.grid_size-3, size=1)[0]\n",
        "        self.y = np.random.randint(3, self.grid_size-3, size=1)[0]\n",
        "\n",
        "\n",
        "        bonus = 0.5*np.random.binomial(1,self.temperature,size=self.grid_size**2)\n",
        "        bonus = bonus.reshape(self.grid_size,self.grid_size)\n",
        "\n",
        "        malus = -1.0*np.random.binomial(1,self.temperature,size=self.grid_size**2)\n",
        "        malus = malus.reshape(self.grid_size, self.grid_size)\n",
        "\n",
        "        self.to_draw = np.zeros((self.max_time+2, self.grid_size*self.scale, self.grid_size*self.scale, 3))\n",
        "\n",
        "\n",
        "        malus[bonus>0]=0\n",
        "\n",
        "        self.board = bonus + malus\n",
        "\n",
        "        self.position = np.zeros((self.grid_size, self.grid_size))\n",
        "        self.position[0:2,:]= -1\n",
        "        self.position[:,0:2] = -1\n",
        "        self.position[-2:, :] = -1\n",
        "        self.position[-2:, :] = -1\n",
        "        self.board[self.x,self.y] = 0\n",
        "        self.t = 0\n",
        "\n",
        "        state = np.concatenate((\n",
        "                               self.board.reshape(self.grid_size, self.grid_size,1),\n",
        "                        self.position.reshape(self.grid_size, self.grid_size,1)),axis=2)\n",
        "\n",
        "        state = state[self.x - 2:self.x + 3, self.y - 2:self.y + 3, :]\n",
        "        return state"
      ],
      "execution_count": 0,
      "outputs": []
    },
    {
      "cell_type": "code",
      "metadata": {
        "id": "2PhU_cArO8ip",
        "colab_type": "code",
        "colab": {}
      },
      "source": [
        ""
      ],
      "execution_count": 0,
      "outputs": []
    },
    {
      "cell_type": "markdown",
      "metadata": {
        "id": "nojIjOEHuN-o",
        "colab_type": "text"
      },
      "source": [
        "The following elements are important because they correspond to the hyper parameters for this project:"
      ]
    },
    {
      "cell_type": "code",
      "metadata": {
        "id": "ZHvBPTCVuN-x",
        "colab_type": "code",
        "colab": {}
      },
      "source": [
        "# parameters\n",
        "size = 13\n",
        "T=200\n",
        "temperature=0.3\n",
        "epochs_train=21 # set small when debugging\n",
        "epochs_test=21 # set small when debugging\n",
        "\n",
        "# display videos\n",
        "def display_videos(name):\n",
        "    video = io.open(name, 'r+b').read()\n",
        "    encoded = base64.b64encode(video)\n",
        "    return '''<video alt=\"test\" controls>\n",
        "                <source src=\"data:video/mp4;base64,{0}\" type=\"video/mp4\" />\n",
        "             </video>'''.format(encoded.decode('ascii'))"
      ],
      "execution_count": 0,
      "outputs": []
    },
    {
      "cell_type": "markdown",
      "metadata": {
        "id": "LdL9FUfUuN_E",
        "colab_type": "text"
      },
      "source": [
        "__Question 2__ Explain the use of the arrays ```position``` and ```board```."
      ]
    },
    {
      "cell_type": "markdown",
      "metadata": {
        "id": "0mmu4MfHuN_L",
        "colab_type": "text"
      },
      "source": [
        "*board* contains for each cell the reward (cheese or poison)."
      ]
    },
    {
      "cell_type": "markdown",
      "metadata": {
        "id": "X4axmQqquN_P",
        "colab_type": "text"
      },
      "source": [
        "## Random Agent"
      ]
    },
    {
      "cell_type": "markdown",
      "metadata": {
        "id": "Ng5lMxf8uN_W",
        "colab_type": "text"
      },
      "source": [
        "***\n",
        "__Question 3__ Implement a random Agent (only ```learned_act``` needs to be implemented):"
      ]
    },
    {
      "cell_type": "code",
      "metadata": {
        "id": "zzOKkT5kuN_c",
        "colab_type": "code",
        "colab": {}
      },
      "source": [
        "class RandomAgent(Agent):\n",
        "    def __init__(self):\n",
        "        super(RandomAgent, self).__init__()\n",
        "        pass\n",
        "\n",
        "    def learned_act(self, s):\n",
        "        #pass\n",
        "        return np.random.randint(4, size=1)[0]"
      ],
      "execution_count": 0,
      "outputs": []
    },
    {
      "cell_type": "markdown",
      "metadata": {
        "id": "GJKtzt2guN_r",
        "colab_type": "text"
      },
      "source": [
        "***\n",
        "***\n",
        "__Question 4__ Visualize the game moves. You need to fill in the following function for the evaluation:"
      ]
    },
    {
      "cell_type": "code",
      "metadata": {
        "id": "Jgcp09lyuN_v",
        "colab_type": "code",
        "colab": {}
      },
      "source": [
        "def test(agent,env,epochs,prefix=''):\n",
        "    # Number of won games\n",
        "    score = 0\n",
        "        \n",
        "    for e in range(epochs):\n",
        "        \n",
        "        # At each epoch, we restart to a fresh game and get the initial state\n",
        "        state = env.reset()\n",
        "\n",
        "        # This assumes that the games will end\n",
        "        game_over = False\n",
        "\n",
        "        win = 0\n",
        "        lose = 0\n",
        "\n",
        "        while not game_over:\n",
        "          # The agent performs an action\n",
        "          action = agent.learned_act(state) \n",
        "\n",
        "          # Apply an action to the environment, get the next state, the reward\n",
        "          # and if the games end\n",
        "          prev_state = state\n",
        "          state, reward, game_over = env.act(action)\n",
        "\n",
        "          # Update the counters\n",
        "          if reward > 0:\n",
        "              win = win + reward\n",
        "          if reward < 0:\n",
        "              lose = lose -reward\n",
        "        \n",
        "        # Save as a mp4\n",
        "        env.draw(prefix+str(e))\n",
        "\n",
        "        # Update stats\n",
        "        score = score + win-lose\n",
        "\n",
        "        print(\"Win/lose count {}/{}. Average score ({})\"\n",
        "              .format(win, lose, score/(1+e)))\n",
        "    print('Final score: '+str(score/epochs))"
      ],
      "execution_count": 0,
      "outputs": []
    },
    {
      "cell_type": "code",
      "metadata": {
        "id": "2a5GyjGyuN_-",
        "colab_type": "code",
        "outputId": "e086899e-c85e-49ec-bc34-3bf57cb7cad9",
        "colab": {
          "base_uri": "https://localhost:8080/",
          "height": 667
        }
      },
      "source": [
        "# Initialize the game\n",
        "env = Environment(grid_size=size, max_time=T,temperature=temperature)\n",
        "\n",
        "# Initialize the agent!\n",
        "agent = RandomAgent()\n",
        "\n",
        "test(agent,env,epochs_test,prefix='random')\n",
        "HTML(display_videos('random0.mp4'))"
      ],
      "execution_count": 37,
      "outputs": [
        {
          "output_type": "stream",
          "text": [
            "Win/lose count 12.0/14.0. Average score (-2.0)\n",
            "Win/lose count 11.5/6.0. Average score (1.75)\n",
            "Win/lose count 9.0/12.0. Average score (0.16666666666666666)\n",
            "Win/lose count 9.5/12.0. Average score (-0.5)\n",
            "Win/lose count 11.0/18.0. Average score (-1.8)\n",
            "Win/lose count 9.0/9.0. Average score (-1.5)\n",
            "Win/lose count 13.5/10.0. Average score (-0.7857142857142857)\n",
            "Win/lose count 11.5/12.0. Average score (-0.75)\n",
            "Win/lose count 12.0/10.0. Average score (-0.4444444444444444)\n",
            "Win/lose count 7.5/11.0. Average score (-0.75)\n",
            "Win/lose count 13.5/16.0. Average score (-0.9090909090909091)\n",
            "Win/lose count 7.0/8.0. Average score (-0.9166666666666666)\n",
            "Win/lose count 13.5/11.0. Average score (-0.6538461538461539)\n",
            "Win/lose count 7.0/10.0. Average score (-0.8214285714285714)\n",
            "Win/lose count 13.5/7.0. Average score (-0.3333333333333333)\n",
            "Win/lose count 7.0/8.0. Average score (-0.375)\n",
            "Win/lose count 10.0/15.0. Average score (-0.6470588235294118)\n",
            "Win/lose count 11.5/14.0. Average score (-0.75)\n",
            "Win/lose count 10.0/24.0. Average score (-1.4473684210526316)\n",
            "Win/lose count 8.5/17.0. Average score (-1.8)\n",
            "Win/lose count 7.5/9.0. Average score (-1.7857142857142858)\n",
            "Final score: -1.7857142857142858\n"
          ],
          "name": "stdout"
        },
        {
          "output_type": "execute_result",
          "data": {
            "text/html": [
              "<video alt=\"test\" controls>\n",
              "                <source src=\"data:video/mp4;base64,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\" type=\"video/mp4\" />\n",
              "             </video>"
            ],
            "text/plain": [
              "<IPython.core.display.HTML object>"
            ]
          },
          "metadata": {
            "tags": []
          },
          "execution_count": 37
        }
      ]
    },
    {
      "cell_type": "markdown",
      "metadata": {
        "id": "iHVqvgwLuOAa",
        "colab_type": "text"
      },
      "source": [
        "***\n",
        "## DQN"
      ]
    },
    {
      "cell_type": "markdown",
      "metadata": {
        "id": "f0W1OE3MuOAh",
        "colab_type": "text"
      },
      "source": [
        "Let us assume here that $T=\\infty$.\n",
        "\n",
        "***\n",
        "__Question 5__ Let $\\pi$ be a policy, show that:\n",
        "\n",
        "\\begin{equation*}\n",
        "Q^{\\pi}(s,a)=E_{(s',a')\\sim p(.|s,a)}[r(s,a)+\\gamma Q^{\\pi}(s',a')]\n",
        "\\end{equation*}\n",
        "\n",
        "Then, show that for the optimal policy $\\pi^*$ (we assume its existence), the following holds: \n",
        "\n",
        "\\begin{equation*}\n",
        "Q^{*}(s,a)=E_{s'\\sim \\pi^*(.|s,a)}[r(s,a)+\\gamma\\max_{a'}Q^{*}(s',a')].\n",
        "\\end{equation*}\n",
        "Finally, deduce that a plausible objective is:\n",
        "\n",
        "\\begin{equation*}\n",
        "\\mathcal{L}(\\theta)=E_{s' \\sim \\pi^*(.|s,a)}\\Vert r+\\gamma\\max\\max_{a'}Q(s',a',\\theta)-Q(s,a,\\theta)\\Vert^{2}.\n",
        "\\end{equation*}\n",
        "\n",
        "\n"
      ]
    },
    {
      "cell_type": "markdown",
      "metadata": {
        "id": "GPWy5aKCuOAn",
        "colab_type": "text"
      },
      "source": [
        "First equality is just the Bellmann equation:\n",
        "\n",
        "\\begin{equation*}Q^\\pi(s,a)=E_{p^{\\pi}}[\\sum_{t=0}\\gamma^{t}r(s_{t},a_{t})|s_{0}=s,a_{0}=a] \\> = r(s,a)+ \\gamma \\sum_{s'} \\pi(a|s)p(s',a'|s,a)E_{p^{\\pi}}[\\sum_{t=1}\\gamma^{t-1}r(s_{t},a_{t})|s_{1}=s',a_{1}=a'] \\> = E_{(s',a')\\sim p(.|s,a)}[r(s,a)+\\gamma Q^{\\pi}(s',a')] .\n",
        "\\end{equation*}\n",
        "\n",
        "Second equality is Bellman equation for optimal policy:\n",
        "\n",
        "\\begin{equation*}Q^*(s,a)=E_{p^{\\pi^*}}[\\sum_{t=0}\\gamma^{t}r(s_{t},a_{t})|s_{0}=s,a_{0}=a] \\> = r(s,a)+ \\gamma \\sum_{s'} \\pi^*(a|s)p(s'|s,a)E_{p^{\\pi^*}}[\\sum_{t=1}\\gamma^{t-1}r(s_{t},a_{t})|s_{1}=s',a_{1}=a'] \\> = E_{s'\\sim \\pi^*(.|s,a)}[r(s,a)+\\gamma \\max_{a'} Q^{*}(s',a')] .\n",
        "\\end{equation*}\n",
        "\n",
        "To obtain the third equality, we just inject our last equality inside \n",
        "\\begin{equation*}\\mathcal{L}(\\theta)=E_{s,a}||Q^*(s,a,\\theta)-Q(s,a,\\theta)||^2 \\end{equation*} and then take Q as a proxy for $Q^*$ since we do not have $Q^*$. (Note that there should be only one \"max\")"
      ]
    },
    {
      "cell_type": "markdown",
      "metadata": {
        "id": "kovJqOYnuOAs",
        "colab_type": "text"
      },
      "source": [
        "***\n",
        "The DQN-learning algorithm relies on these derivations to train the parameters $\\theta$ of a Deep Neural Network:\n",
        "\n",
        "1. At the state $s_t$, select the action $a_t$ with best reward using $Q_t$ and store the results;\n",
        "\n",
        "2. Obtain the new state $s_{t+1}$ from the environment $p$;\n",
        "\n",
        "3. Store $(s_t,a_t,s_{t+1})$;\n",
        "\n",
        "4. Obtain $Q_{t+1}$ by minimizing  $\\mathcal{L}$ from a recovered batch from the previously stored results.\n",
        "\n",
        "***\n",
        "__Question 6__ Implement the class ```Memory``` that stores moves (in a replay buffer) via ```remember``` and provides a ```random_access``` to these. Specify a maximum memory size to avoid side effects. You can for example use a ```list()``` and set by default ```max_memory=100```."
      ]
    },
    {
      "cell_type": "code",
      "metadata": {
        "id": "ASYhq3QXuOAv",
        "colab_type": "code",
        "colab": {}
      },
      "source": [
        "class Memory(object):\n",
        "    def __init__(self, max_memory=100):\n",
        "        self.max_memory = max_memory\n",
        "        self.memory = list()\n",
        "\n",
        "    def remember(self, m):\n",
        "        if len(self.memory)+5>self.max_memory:\n",
        "          for i in range(5): #remove first four elements\n",
        "            self.memory.pop(0)\n",
        "        self.memory=self.memory+m #concatenate our batch in our memory\n",
        "        pass\n",
        "\n",
        "    def random_access(self):\n",
        "        num=5*np.random.randint((len(self.memory)/5), size=1)[0]\n",
        "        return [self.memory[num],self.memory[num+1],self.memory[num+2],self.memory[num+3],self.memory[num+4]]\n",
        "        #pass"
      ],
      "execution_count": 0,
      "outputs": []
    },
    {
      "cell_type": "markdown",
      "metadata": {
        "id": "8k6NlByCuOA8",
        "colab_type": "text"
      },
      "source": [
        "***\n",
        "The pipeline we will use for training is given below:"
      ]
    },
    {
      "cell_type": "code",
      "metadata": {
        "id": "scR2BQnguOBC",
        "colab_type": "code",
        "colab": {}
      },
      "source": [
        "def train(agent,env,epoch,prefix=''):\n",
        "    # Number of won games\n",
        "    score = 0\n",
        "    loss = 0\n",
        "\n",
        "    for e in range(epoch):\n",
        "        # At each epoch, we restart to a fresh game and get the initial state\n",
        "        state = env.reset()\n",
        "        # This assumes that the games will terminate\n",
        "        game_over = False\n",
        "\n",
        "        win = 0\n",
        "        lose = 0\n",
        "\n",
        "        while not game_over:\n",
        "            # The agent performs an action\n",
        "            action = agent.act(state)\n",
        "            # Apply an action to the environment, get the next state, the reward\n",
        "            # and if the games end\n",
        "            prev_state = state\n",
        "            state, reward, game_over = env.act(action)\n",
        "\n",
        "            # Update the counters\n",
        "            if reward > 0:\n",
        "                win = win + reward\n",
        "            if reward < 0:\n",
        "                lose = lose -reward\n",
        "\n",
        "            # Apply the reinforcement strategy\n",
        "            loss = agent.reinforce(prev_state, state,  action, reward, game_over)\n",
        "\n",
        "        # Save as a mp4\n",
        "        if e % 10 == 0:\n",
        "            env.draw(prefix+str(e))\n",
        "\n",
        "        # Update stats\n",
        "        score += win-lose\n",
        "\n",
        "        print(\"Epoch {:03d}/{:03d} | Loss {:.4f} | Win/lose count {}/{} ({})\"\n",
        "              .format(e, epoch, loss, win, lose, win-lose))\n",
        "        agent.save(name_weights=prefix+'model.h5',name_model=prefix+'model.json')"
      ],
      "execution_count": 0,
      "outputs": []
    },
    {
      "cell_type": "markdown",
      "metadata": {
        "id": "blCj860_uOBZ",
        "colab_type": "text"
      },
      "source": [
        "***\n",
        "__Question 7__ Implement the DQN training algorithm using a cascade of fully connected layers. You can use different learning rate, batch size or memory size parameters. In particular, the loss might oscillate while the player will start to win the games. You have to find a good criterium."
      ]
    },
    {
      "cell_type": "code",
      "metadata": {
        "id": "naHmtdyouOBd",
        "colab_type": "code",
        "colab": {}
      },
      "source": [
        "class DQN(Agent):\n",
        "    def __init__(self, grid_size, epsilon, memory_size=100, batch_size = 16,n_state=2):\n",
        "        super(DQN, self).__init__(epsilon)\n",
        "\n",
        "        # Discount for Q learning\n",
        "        self.discount = 0.99\n",
        "        \n",
        "        self.grid_size = grid_size\n",
        "        \n",
        "        # number of state\n",
        "        self.n_state = n_state\n",
        "\n",
        "        # Memory\n",
        "        self.memory = Memory(memory_size)\n",
        "        \n",
        "        # Batch size when learning\n",
        "        self.batch_size = batch_size\n",
        "\n",
        "    def learned_act(self, s):\n",
        "        #pass \n",
        "        a= self.model.predict(s.reshape([1,s.shape[0],s.shape[1],self.n_state])) #s.shape[2]\n",
        "        return np.argmax(a) \n",
        "\n",
        "    def reinforce(self, s_, n_s_, a_, r_, game_over_):\n",
        "        # Two steps: first memorize the states, second learn from the pool\n",
        "\n",
        "        self.memory.remember([s_, n_s_, a_, r_, game_over_])\n",
        "        \n",
        "        input_states = np.zeros((self.batch_size, 5,5,self.n_state))\n",
        "        target_q = np.zeros((self.batch_size, 4))\n",
        "        \n",
        "        for i in range(self.batch_size):\n",
        "            ######## FILL IN\n",
        "            pool=self.memory.random_access() \n",
        "            game_over=pool[4]\n",
        "\n",
        "            if game_over_:\n",
        "                ######## FILL IN\n",
        "                target_q[i,pool[2]]=pool[3]\n",
        "            else:\n",
        "                ######## FILL IN\n",
        "                s=pool[1]\n",
        "                target_q[i,pool[2]]=pool[3]+self.discount*np.amax(self.model.predict(s.reshape([1,s.shape[0],s.shape[1],self.n_state]))) #s.shape[2]\n",
        "               \n",
        "            input_states[i,:,:,:] = pool[0]\n",
        "        ######## FILL IN\n",
        "        # HINT: Clip the target to avoid exploiding gradients.. -- clipping is a bit tighter\n",
        "        target_q = np.clip(target_q, -3, 3)\n",
        "\n",
        "        l = self.model.train_on_batch(input_states, target_q) \n",
        "\n",
        "\n",
        "        return l\n",
        "\n",
        "    def save(self,name_weights='model.h5',name_model='model.json'):\n",
        "        self.model.save_weights(name_weights, overwrite=True)\n",
        "        with open(name_model, \"w\") as outfile:\n",
        "            json.dump(self.model.to_json(), outfile)\n",
        "            \n",
        "    def load(self,name_weights='model.h5',name_model='model.json'):\n",
        "        with open(name_model, \"r\") as jfile:\n",
        "            model = model_from_json(json.load(jfile))\n",
        "        model.load_weights(name_weights)\n",
        "        model.compile(\"sgd\", \"mse\") \n",
        "        self.model = model\n",
        "\n",
        "            \n",
        "class DQN_FC(DQN):\n",
        "  def __init__(self, *args, lr=0.1,**kwargs):\n",
        "        super(DQN_FC, self).__init__( *args,**kwargs)\n",
        "\n",
        "        model = Sequential()\n",
        "        model.add(Dense(16, input_shape=(5,5,self.n_state)))\n",
        "        model.add(Activation('relu'))\n",
        "        model.add(Flatten())\n",
        "        model.add(Dense(output_dim=4))\n",
        "        model.add(Activation('linear'))\n",
        "        model.compile(sgd(lr=lr, decay=1e-4, momentum=0.0), \"mse\")  \n",
        "        self.model = model\n",
        "\n",
        "        \n",
        "  \n",
        "        "
      ],
      "execution_count": 0,
      "outputs": []
    },
    {
      "cell_type": "code",
      "metadata": {
        "id": "h8_wzsiFuOBu",
        "colab_type": "code",
        "outputId": "fa43ff66-03e9-4a6d-ee33-2217d695fe88",
        "colab": {
          "base_uri": "https://localhost:8080/",
          "height": 1000
        }
      },
      "source": [
        "env = Environment(grid_size=size, max_time=T, temperature=0.3)\n",
        "agent = DQN_FC(size, lr=.05, epsilon = 0.1, memory_size=2000, batch_size = 64)\n",
        "train(agent, env, epochs_train, prefix='fc_train')\n",
        "HTML(display_videos('fc_train10.mp4'))"
      ],
      "execution_count": 41,
      "outputs": [
        {
          "output_type": "stream",
          "text": [
            "WARNING:tensorflow:From /usr/local/lib/python3.6/dist-packages/keras/backend/tensorflow_backend.py:66: The name tf.get_default_graph is deprecated. Please use tf.compat.v1.get_default_graph instead.\n",
            "\n",
            "WARNING:tensorflow:From /usr/local/lib/python3.6/dist-packages/keras/backend/tensorflow_backend.py:541: The name tf.placeholder is deprecated. Please use tf.compat.v1.placeholder instead.\n",
            "\n",
            "WARNING:tensorflow:From /usr/local/lib/python3.6/dist-packages/keras/backend/tensorflow_backend.py:4432: The name tf.random_uniform is deprecated. Please use tf.random.uniform instead.\n",
            "\n",
            "WARNING:tensorflow:From /usr/local/lib/python3.6/dist-packages/keras/optimizers.py:793: The name tf.train.Optimizer is deprecated. Please use tf.compat.v1.train.Optimizer instead.\n",
            "\n",
            "WARNING:tensorflow:From /usr/local/lib/python3.6/dist-packages/keras/backend/tensorflow_backend.py:3005: The name tf.Session is deprecated. Please use tf.compat.v1.Session instead.\n",
            "\n",
            "WARNING:tensorflow:From /usr/local/lib/python3.6/dist-packages/keras/backend/tensorflow_backend.py:190: The name tf.get_default_session is deprecated. Please use tf.compat.v1.get_default_session instead.\n",
            "\n",
            "WARNING:tensorflow:From /usr/local/lib/python3.6/dist-packages/keras/backend/tensorflow_backend.py:197: The name tf.ConfigProto is deprecated. Please use tf.compat.v1.ConfigProto instead.\n",
            "\n"
          ],
          "name": "stdout"
        },
        {
          "output_type": "stream",
          "text": [
            "/usr/local/lib/python3.6/dist-packages/ipykernel_launcher.py:76: UserWarning: Update your `Dense` call to the Keras 2 API: `Dense(units=4)`\n"
          ],
          "name": "stderr"
        },
        {
          "output_type": "stream",
          "text": [
            "WARNING:tensorflow:From /usr/local/lib/python3.6/dist-packages/keras/backend/tensorflow_backend.py:207: The name tf.global_variables is deprecated. Please use tf.compat.v1.global_variables instead.\n",
            "\n",
            "WARNING:tensorflow:From /usr/local/lib/python3.6/dist-packages/keras/backend/tensorflow_backend.py:216: The name tf.is_variable_initialized is deprecated. Please use tf.compat.v1.is_variable_initialized instead.\n",
            "\n",
            "WARNING:tensorflow:From /usr/local/lib/python3.6/dist-packages/keras/backend/tensorflow_backend.py:223: The name tf.variables_initializer is deprecated. Please use tf.compat.v1.variables_initializer instead.\n",
            "\n",
            "WARNING:tensorflow:From /usr/local/lib/python3.6/dist-packages/keras/backend/tensorflow_backend.py:1033: The name tf.assign_add is deprecated. Please use tf.compat.v1.assign_add instead.\n",
            "\n",
            "WARNING:tensorflow:From /usr/local/lib/python3.6/dist-packages/keras/backend/tensorflow_backend.py:1020: The name tf.assign is deprecated. Please use tf.compat.v1.assign instead.\n",
            "\n",
            "Epoch 000/021 | Loss 0.0097 | Win/lose count 3.0/3.0 (0.0)\n",
            "Epoch 001/021 | Loss 0.0141 | Win/lose count 3.0/5.0 (-2.0)\n",
            "Epoch 002/021 | Loss 0.0078 | Win/lose count 5.5/8.0 (-2.5)\n",
            "Epoch 003/021 | Loss 0.0123 | Win/lose count 2.5/5.0 (-2.5)\n",
            "Epoch 004/021 | Loss 0.0142 | Win/lose count 5.5/11.0 (-5.5)\n",
            "Epoch 005/021 | Loss 0.0082 | Win/lose count 6.5/6.0 (0.5)\n",
            "Epoch 006/021 | Loss 0.0133 | Win/lose count 4.0/6.0 (-2.0)\n",
            "Epoch 007/021 | Loss 0.0242 | Win/lose count 4.0/7.0 (-3.0)\n",
            "Epoch 008/021 | Loss 0.0054 | Win/lose count 4.0/3.0 (1.0)\n",
            "Epoch 009/021 | Loss 0.0245 | Win/lose count 9.5/8.0 (1.5)\n",
            "Epoch 010/021 | Loss 0.0225 | Win/lose count 2.0/4.0 (-2.0)\n",
            "Epoch 011/021 | Loss 0.0096 | Win/lose count 4.5/3.0 (1.5)\n",
            "Epoch 012/021 | Loss 0.0045 | Win/lose count 7.0/6.0 (1.0)\n",
            "Epoch 013/021 | Loss 0.0102 | Win/lose count 4.5/3.0 (1.5)\n",
            "Epoch 014/021 | Loss 0.0079 | Win/lose count 5.5/3.0 (2.5)\n",
            "Epoch 015/021 | Loss 0.0033 | Win/lose count 4.0/3.0 (1.0)\n",
            "Epoch 016/021 | Loss 0.0018 | Win/lose count 2.0/0 (2.0)\n",
            "Epoch 017/021 | Loss 0.0044 | Win/lose count 8.5/4.0 (4.5)\n",
            "Epoch 018/021 | Loss 0.0103 | Win/lose count 5.5/4.0 (1.5)\n",
            "Epoch 019/021 | Loss 0.0073 | Win/lose count 4.5/3.0 (1.5)\n",
            "Epoch 020/021 | Loss 0.0058 | Win/lose count 8.0/4.0 (4.0)\n"
          ],
          "name": "stdout"
        },
        {
          "output_type": "execute_result",
          "data": {
            "text/html": [
              "<video alt=\"test\" controls>\n",
              "                <source src=\"data:video/mp4;base64,AAAAIGZ0eXBpc29tAAACAGlzb21pc28yYXZjMW1wNDEAAAAIZnJlZQAAFjBtZGF0AAACrQYF//+p3EXpvebZSLeWLNgg2SPu73gyNjQgLSBjb3JlIDE1MiByMjg1NCBlOWE1OTAzIC0gSC4yNjQvTVBFRy00IEFWQyBjb2RlYyAtIENvcHlsZWZ0IDIwMDMtMjAxNyAtIGh0dHA6Ly93d3cudmlkZW9sYW4ub3JnL3gyNjQuaHRtbCAtIG9wdGlvbnM6IGNhYmFjPTEgcmVmPTMgZGVibG9jaz0xOjA6MCBhbmFseXNlPTB4MToweDExMSBtZT1oZXggc3VibWU9NyBwc3k9MSBwc3lfcmQ9MS4wMDowLjAwIG1peGVkX3JlZj0xIG1lX3JhbmdlPTE2IGNocm9tYV9tZT0xIHRyZWxsaXM9MSA4eDhkY3Q9MCBjcW09MCBkZWFkem9uZT0yMSwxMSBmYXN0X3Bza2lwPTEgY2hyb21hX3FwX29mZnNldD00IHRocmVhZHM9MyBsb29rYWhlYWRfdGhyZWFkcz0xIHNsaWNlZF90aHJlYWRzPTAgbnI9MCBkZWNpbWF0ZT0xIGludGVybGFjZWQ9MCBibHVyYXlfY29tcGF0PTAgY29uc3RyYWluZWRfaW50cmE9MCBiZnJhbWVzPTMgYl9weXJhbWlkPTIgYl9hZGFwdD0xIGJfYmlhcz0wIGRpcmVjdD0xIHdlaWdodGI9MSBvcGVuX2dvcD0wIHdlaWdodHA9MiBrZXlpbnQ9MjUwIGtleWludF9taW49MjUgc2NlbmVjdXQ9NDAgaW50cmFfcmVmcmVzaD0wIHJjX2xvb2thaGVhZD00MCByYz1jcmYgbWJ0cmVlPTEgY3JmPTIzLjAgcWNvbXA9MC42MCBxcG1pbj0wIHFwbWF4PTY5IHFwc3RlcD00IGlwX3JhdGlvPTEuNDAgYXE9MToxLjAwAIAAAALUZYiEADf//vaH+BTZWBP+Wb/9DX/cj9uPrP1xYyEE31qvIejAGS+1H+b/rFFs6Z6UB/fgCJQAc24ZwpHZJ46w5MIvVHwKXAT74FNJkUf2kz8kZ79iJJSbYylA8Zy/0rTM1hVoemNpWQFHxb8nWNXLO1ntl5C/GsecjRxZtpbGmI4N4UMnN0TXEtFnZn4DWQQ09EtmBT3vHz4+xARi9ieKFkBF4a6aW3Qw/GDk84PTj0CMt+fXW0hkJigXc4YHJGo9NQlhQlSZVHFiFHZ88MqYjW39KYKKlOrILz00lVn6Kta569WOxjiRPdBHFj58WcSEcyzJLrACBKpEZDx6Q256HU9+JVZyKAb3brMG4WNz/ymnJpjNct898Zv97K92SxXCmcIDrJbfTulJIjIwDEvDn0MIGTGOdO/aCStSJVP2TiN3G/TOOgMkhHEbT1RO1lmkfmt6jfH8YKzpJCxiDrSDmImEwTIjrMreydELhyqYpu7h54QipGhDwYb2XnRnKYArQBtagAfNgF6ivEHkDyBoZCSCsO4o99fvRu6hZDiGwO9yidzXAM9aD8sZLJeqkh292D1gTTfqXmKqtTkyIBjhoOtydlxu3Z/BqTNRM3qU9wVLD/K7KgDssW70RV4W8ATYuI4ehMgHD1FaI1HtO4AJa0q2hES53jXUB5suIxmLRAxVL9+tPukF/CRrAU5DU7mmuRZ63VlVoU4kdTDlnDuORNWkG7f0t24j1FLB9yTKmr2CXNqX2+QoET1ZLCIWimCjE/TCurOxCddDOFsvdMcjHdyWPL0OXRwssxb9ZWoJEvPHg3yZ6OLWY4bCwfKD3ANQYIFPasXLl7oubEprJPMdU1uAPewAURHVSDoC27A1qGWf/LqZHejmCSONypgfwccmRIqOaYCPMH5WA87/3iRcN7+w0YarUDlp6YA09+kMto7BVT6JZ4auvVBDT0YxupLrQABewQAAABVBmiNsQ3/+p4QCC+Rw+eTwfVRsWUAAAAAPQZ5BeIV/AklisYKN6HHXAAAADgGeYmpCvwJIEADjvqRsAAAAF0GaZ0moQWiZTAhv//6nhAEV+jn4mKSBAAAADkGehUURLC//AKhQEBqRAAAAEAGepHRCvwFftrbp2XZUg4EAAAAQAZ6makK/AV+2t2K0fbpcQQAAABNBmqlJqEFsmUwUTDP//p4QAAR8AAAAEAGeyGpCvwFftrditH26XEAAAAAbQZrKSeEKUmUwIb/+p4QB8e1UGP/H4aEhSPSBAAAAGEGa60nhDomUwIb//qeEARwfMeRif5bZXwAAABhBmwxJ4Q8mUwId//6plgEFiw3RMYgmI+AAAAAVQZswSeEPJlMCG//+p4QCKeOn1lknAAAAFEGfTkURPC//AcLrj29tmBAkLE7BAAAADwGfbXRCvwJfGE2DZLtSJwAAABABn29qQr8CXgvOdZx4K2PAAAAAGUGbc0moQWiZTAhv//6nhAIL46Y/w+qjYsoAAAAPQZ+RRREsK/8BbGtw1ltBAAAADwGfsmpCvwFj5WBdf37JwAAAABNBm7VJqEFsmUwUTDf//qeEAAEnAAAAEAGf1GpCvwFftrditH26XEEAAAASQZvXSeEKUmUwUsN//qeEAAEnAAAAEAGf9mpCvwFftrditH26XEEAAAASQZv5SeEOiZTBRMN//qeEAAEnAAAAEAGeGGpCvwFftrditH26XEAAAAASQZobSeEPJlMFPDf//qeEAAEnAAAAEAGeOmpCvwFftrditH26XEAAAAASQZo9SeEPJlMFPDf//qeEAAEnAAAAEAGeXGpCvwFftrditH26XEEAAAASQZpfSeEPJlMFPDf//qeEAAEnAAAAEAGefmpCvwFftrbDPVno44AAAAASQZphSeEPJlMFPDf//qeEAAEnAAAAEAGegGpCvwFftrditH26XEAAAAASQZqDSeEPJlMFPDf//qeEAAEnAAAAEAGeompCvwFftrditH26XEAAAAASQZqlSeEPJlMFPDf//qeEAAEnAAAAEAGexGpCvwFftrditH26XEEAAAATQZrHSeEPJlMFPDv//qmWAACVgQAAABABnuZqQr8BX7a3YrR9ulxBAAAAFUGa60nhDyZTAh3//qmWA5ujn3Dw/wAAAA5BnwlFETwv/wGjn3UZUAAAABABnyh0Qr8BX7a3ZdV/Ab1hAAAAEAGfKmpCvwIylbF6gw48oYAAAAASQZsvSahBaJlMCG///qeEAAEnAAAADEGfTUURLC//AACygQAAABABn2x0Qr8BX7KO/AB9ulxBAAAAEAGfbmpCvwFfso72ePt0uIEAAAAaQZtwSahBbJlMCHf//qmWAPv0Y/FOQpg0raAAAAASQZuUSeEKUmUwId/+qZYAAJWAAAAADEGfskU0TC//AACygQAAAA8Bn9F0Qr8A57YGh5zy6VsAAAAQAZ/TakK/AWONrushhyN6wAAAABNBm9hJqEFomUwId//+qZYAAJWBAAAADEGf9kURLC//AACygAAAABABnhV0Qr8BY+gHP60Dkb1hAAAAEAGeF2pCvwFjja7rIYcjesEAAAATQZocSahBbJlMCHf//qmWAACVgAAAAAxBnjpFFSwv/wAAsoEAAAAQAZ5ZdEK/AWPoBz+tA5G9YAAAABABnltqQr8BY42u6yGHI3rBAAAAE0GaQEmoQWyZTAh3//6plgAAlYEAAAAMQZ5+RRUsL/8AALKAAAAAEAGenXRCvwFj6Ac/rQORvWAAAAAQAZ6fakK/AWONrushhyN6wQAAABNBmoRJqEFsmUwId//+qZYAAJWAAAAADEGeokUVLC//AACygQAAABABnsF0Qr8BY+gHP60Dkb1gAAAAEAGew2pCvwFjja7rIYcjesEAAAAeQZrISahBbJlMCHf//qmWBJ9+rmWWfPttwJ2/8a4fAAAAFUGe5kUVLC//AcOrks3v1yG6XJ17oQAAAA8BnwV0Qr8BbMydwbJeMbUAAAAPAZ8HakK/Al7O9HDZtKkTAAAAGkGbCkmoQWyZTBRMO//+qZYEn4UfSn7NmMxYAAAAEAGfKWpCvwJeC851nHgrY8EAAAAbQZsuSeEKUmUwId/+qZYBCPHn8WjU6hBuDHXcAAAAEEGfTEU0TC//AQagM11gy8AAAAAQAZ9rdEK/AWxNaMkt/rZxwQAAAA8Bn21qQr8BY42u77vdvWEAAAATQZtySahBaJlMCHf//qmWAACVgQAAAAxBn5BFESwv/wAAsoAAAAAQAZ+vdEK/AWPoBz+tA5G9YAAAABABn7FqQr8BY42u6yGHI3rBAAAAIUGbtkmoQWyZTAh3//6plgSfiE5XmWVf91twJ26JPjXDwAAAABVBn9RFFSwv/wHDq5LN79chulyde6AAAAAPAZ/zdEK/AWzMncGyXjG1AAAADwGf9WpCvwJezvRw2bSpEwAAAB5Bm/pJqEFsmUwId//+qZYGHzyOZZZ8+33XNNxURD0AAAAQQZ4YRRUsL/8B6f+nIIT2gQAAABABnjd0Qr8Ckcku6lwGTKCAAAAAEAGeOWpCvwKDYt1r8fbgrYEAAAASQZo+SahBbJlMCG///qeEAAEnAAAADEGeXEUVLC//AACygQAAABABnnt0Qr8Cg2LddwD7cFbBAAAAEAGefWpCvwKDYt1r8fbgrYAAAAAZQZphSahBbJlMCG///qeEC7bMfgPgtz0w/wAAAA9Bnp9FFSwr/wKQVnGJa0EAAAANAZ6gakK/ApI1d7RLWgAAACBBmqNJqEFsmUwUTDf//qeEApPZWBCfzPvkrWqZCRqBnwAAABABnsJqQr8Bk2bmuPFW0bfgAAAAHEGax0nhClJlMCG//qeEAT346fZ/y2fCjW6JDXcAAAAQQZ7lRTRML/8AvtALZ8MjPwAAAA8BnwR0Qr8Bk7Ku7zdp4MEAAAAQAZ8GakK/AP6V0VWcfgMmYQAAABpBmwhJqEFomUwIb//+p4QBNEAWbbZ9nzRJwAAAABlBmylJ4QpSZTAh3/6plgEz8gzPyeY+5TegAAAAEkGbTUnhDomUwId//qmWAACVgQAAAAxBn2tFETwv/wAAsoAAAAAQAZ+KdEK/ApJAHP10DiyRgAAAABABn4xqQr8CkNa7qq89EtaBAAAAE0GbkUmoQWiZTAh3//6plgAAlYEAAAAMQZ+vRREsL/8AALKBAAAAEAGfznRCvwKSQBz9dA4skYAAAAAQAZ/QakK/ApDWu6qvPRLWgAAAABNBm9VJqEFsmUwId//+qZYAAJWBAAAADEGf80UVLC//AACygAAAABABnhJ0Qr8CkkAc/XQOLJGAAAAAEAGeFGpCvwKQ1ruqrz0S1oEAAAATQZoZSahBbJlMCHf//qmWAACVgAAAAAxBnjdFFSwv/wAAsoEAAAAQAZ5WdEK/ApJAHP10DiyRgQAAABABnlhqQr8CkNa7qq89EtaAAAAAE0GaXUmoQWyZTAh3//6plgAAlYEAAAAMQZ57RRUsL/8AALKAAAAAEAGemnRCvwKSQBz9dA4skYEAAAAQAZ6cakK/ApDWu6qvPRLWgQAAABNBmoFJqEFsmUwId//+qZYAAJWAAAAADEGev0UVLC//AACygAAAABABnt50Qr8CkkAc/XQOLJGBAAAAEAGewGpCvwKQ1ruqrz0S1oAAAAATQZrFSahBbJlMCHf//qmWAACVgQAAAAxBnuNFFSwv/wAAsoAAAAAQAZ8CdEK/ApJAHP10DiyRgQAAABABnwRqQr8CkNa7qq89EtaBAAAAE0GbCUmoQWyZTAh3//6plgAAlYEAAAAMQZ8nRRUsL/8AALKBAAAAEAGfRnRCvwKSQBz9dA4skYAAAAAQAZ9IakK/ApDWu6qvPRLWgAAAABNBm01JqEFsmUwId//+qZYAAJWBAAAADEGfa0UVLC//AACygAAAABABn4p0Qr8CkkAc/XQOLJGAAAAAEAGfjGpCvwKQ1ruqrz0S1oEAAAATQZuRSahBbJlMCHf//qmWAACVgQAAAAxBn69FFSwv/wAAsoEAAAAQAZ/OdEK/ApJAHP10DiyRgAAAABABn9BqQr8CkNa7qq89EtaAAAAAE0Gb1UmoQWyZTAh3//6plgAAlYEAAAAMQZ/zRRUsL/8AALKAAAAAEAGeEnRCvwKSQBz9dA4skYAAAAAQAZ4UakK/ApDWu6qvPRLWgQAAABNBmhlJqEFsmUwId//+qZYAAJWAAAAADEGeN0UVLC//AACygQAAABABnlZ0Qr8CkkAc/XQOLJGBAAAAEAGeWGpCvwKQ1ruqrz0S1oAAAAATQZpdSahBbJlMCHf//qmWAACVgQAAAAxBnntFFSwv/wAAsoAAAAAQAZ6adEK/ApJAHP10DiyRgQAAABABnpxqQr8CkNa7qq89EtaBAAAAE0GagUmoQWyZTAh3//6plgAAlYAAAAAMQZ6/RRUsL/8AALKAAAAAEAGe3nRCvwGEzk78AH26U0EAAAAQAZ7AakK/ApDWu6qvPRLWgAAAABNBmsVJqEFsmUwId//+qZYAAJWBAAAADEGe40UVLC//AACygAAAABABnwJ0Qr8CkkAc/XQOLJGBAAAAEAGfBGpCvwKQ1ruqrz0S1oEAAAATQZsJSahBbJlMCHf//qmWAACVgQAAAAxBnydFFSwv/wAAsoEAAAAQAZ9GdEK/ApJAHP10DiyRgAAAABABn0hqQr8CkNa7qq89EtaAAAAAE0GbTUmoQWyZTAh3//6plgAAlYEAAAAMQZ9rRRUsL/8AALKAAAAAEAGfinRCvwKSQBz9dA4skYAAAAAQAZ+MakK/ApDWu6qvPRLWgQAAABNBm5FJqEFsmUwId//+qZYAAJWBAAAADEGfr0UVLC//AACygQAAABABn850Qr8CkkAc/XQOLJGAAAAAEAGf0GpCvwKQ1ruqrz0S1oAAAAATQZvVSahBbJlMCHf//qmWAACVgQAAAAxBn/NFFSwv/wAAsoAAAAAQAZ4SdEK/ApJAHP10DiyRgAAAABABnhRqQr8CkNa7qq89EtaBAAAAE0GaGUmoQWyZTAh3//6plgAAlYAAAAAMQZ43RRUsL/8AALKBAAAAEAGeVnRCvwKSQBz9dA4skYEAAAAQAZ5YakK/ApDWu6qvPRLWgAAAABJBml1JqEFsmUwIb//+p4QAAScAAAAMQZ57RRUsL/8AALKAAAAAEAGemnRCvwKSQBz9dA4skYEAAAAQAZ6cakK/ApDWu6qvPRLWgQAAABxBmoFJqEFsmUwIZ//+nhAJJ3TfVd5yrcVZEIWAAAAAFUGev0UVLC//AgG+OmcVrFLRif0NSAAAAA8Bnt50Qr8Cr81QOm5fkQcAAAAPAZ7AakK/Aq5WhgdNSOWVAAAAGUGawkmoQWyZTAhv//6nhAE9+OmP8Pq0mTcAAAAZQZrjSeEKUmUwIb/+p4QCYdE/1In2fGqkgAAAABFBmwdJ4Q6JlMCGf/6eEAAEfQAAAAxBnyVFETwv/wAAsoEAAAAQAZ9EdEK/ApJAHP10DiyRgQAAABABn0ZqQr8CkNa7qq89EtaBAAAAG0GbSUuoQhBaJEYIKAfyAf2HgFPCv/44QAARcAAAACQBn2hqQr8Cr2Q8sYhqswqoWU02Jm17TcPVssQJHAyBZtchDSQAAAxQbW9vdgAAAGxtdmhkAAAAAAAAAAAAAAAAAAAD6AAAH5AAAQAAAQAAAAAAAAAAAAAAAAEAAAAAAAAAAAAAAAAAAAABAAAAAAAAAAAAAAAAAABAAAAAAAAAAAAAAAAAAAAAAAAAAAAAAAAAAAAAAAAAAgAAC3p0cmFrAAAAXHRraGQAAAADAAAAAAAAAAAAAAABAAAAAAAAH5AAAAAAAAAAAAAAAAAAAAAAAAEAAAAAAAAAAAAAAAAAAAABAAAAAAAAAAAAAAAAAABAAAAAARAAAAEQAAAAAAAkZWR0cwAAABxlbHN0AAAAAAAAAAEAAB+QAAAEAAABAAAAAArybWRpYQAAACBtZGhkAAAAAAAAAAAAAAAAAAAyAAABlABVxAAAAAAALWhkbHIAAAAAAAAAAHZpZGUAAAAAAAAAAAAAAABWaWRlb0hhbmRsZXIAAAAKnW1pbmYAAAAUdm1oZAAAAAEAAAAAAAAAAAAAACRkaW5mAAAAHGRyZWYAAAAAAAAAAQAAAAx1cmwgAAAAAQAACl1zdGJsAAAAlXN0c2QAAAAAAAAAAQAAAIVhdmMxAAAAAAAAAAEAAAAAAAAAAAAAAAAAAAAAARABEABIAAAASAAAAAAAAAABAAAAAAAAAAAAAAAAAAAAAAAAAAAAAAAAAAAAAAAAAAAAGP//AAAAL2F2Y0MB9AAN/+EAF2f0AA2RmygiEdCAAAADAIAAABkHihTLAQAFaOvjxEgAAAAYc3R0cwAAAAAAAAABAAAAygAAAgAAAAAUc3RzcwAAAAAAAAABAAAAAQAABihjdHRzAAAAAAAAAMMAAAABAAAEAAAAAAEAAAgAAAAAAgAAAgAAAAABAAAKAAAAAAEAAAQAAAAAAQAAAAAAAAABAAACAAAAAAEAAAYAAAAAAQAAAgAAAAADAAAEAAAAAAEAAAoAAAAAAQAABAAAAAABAAAAAAAAAAEAAAIAAAAAAQAACAAAAAACAAACAAAAAAEAAAYAAAAAAQAAAgAAAAABAAAGAAAAAAEAAAIAAAAAAQAABgAAAAABAAACAAAAAAEAAAYAAAAAAQAAAgAAAAABAAAGAAAAAAEAAAIAAAAAAQAABgAAAAABAAACAAAAAAEAAAYAAAAAAQAAAgAAAAABAAAGAAAAAAEAAAIAAAAAAQAABgAAAAABAAACAAAAAAEAAAYAAAAAAQAAAgAAAAABAAAKAAAAAAEAAAQAAAAAAQAAAAAAAAABAAACAAAAAAEAAAoAAAAAAQAABAAAAAABAAAAAAAAAAEAAAIAAAAAAQAABAAAAAABAAAKAAAAAAEAAAQAAAAAAQAAAAAAAAABAAACAAAAAAEAAAoAAAAAAQAABAAAAAABAAAAAAAAAAEAAAIAAAAAAQAACgAAAAABAAAEAAAAAAEAAAAAAAAAAQAAAgAAAAABAAAKAAAAAAEAAAQAAAAAAQAAAAAAAAABAAACAAAAAAEAAAoAAAAAAQAABAAAAAABAAAAAAAAAAEAAAIAAAAAAQAACgAAAAABAAAEAAAAAAEAAAAAAAAAAQAAAgAAAAABAAAGAAAAAAEAAAIAAAAAAQAACgAAAAABAAAEAAAAAAEAAAAAAAAAAQAAAgAAAAABAAAKAAAAAAEAAAQAAAAAAQAAAAAAAAABAAACAAAAAAEAAAoAAAAAAQAABAAAAAABAAAAAAAAAAEAAAIAAAAAAQAACgAAAAABAAAEAAAAAAEAAAAAAAAAAQAAAgAAAAABAAAKAAAAAAEAAAQAAAAAAQAAAAAAAAABAAACAAAAAAEAAAgAAAAAAgAAAgAAAAABAAAGAAAAAAEAAAIAAAAAAQAACgAAAAABAAAEAAAAAAEAAAAAAAAAAQAAAgAAAAACAAAEAAAAAAEAAAoAAAAAAQAABAAAAAABAAAAAAAAAAEAAAIAAAAAAQAACgAAAAABAAAEAAAAAAEAAAAAAAAAAQAAAgAAAAABAAAKAAAAAAEAAAQAAAAAAQAAAAAAAAABAAACAAAAAAEAAAoAAAAAAQAABAAAAAABAAAAAAAAAAEAAAIAAAAAAQAACgAAAAABAAAEAAAAAAEAAAAAAAAAAQAAAgAAAAABAAAKAAAAAAEAAAQAAAAAAQAAAAAAAAABAAACAAAAAAEAAAoAAAAAAQAABAAAAAABAAAAAAAAAAEAAAIAAAAAAQAACgAAAAABAAAEAAAAAAEAAAAAAAAAAQAAAgAAAAABAAAKAAAAAAEAAAQAAAAAAQAAAAAAAAABAAACAAAAAAEAAAoAAAAAAQAABAAAAAABAAAAAAAAAAEAAAIAAAAAAQAACgAAAAABAAAEAAAAAAEAAAAAAAAAAQAAAgAAAAABAAAKAAAAAAEAAAQAAAAAAQAAAAAAAAABAAACAAAAAAEAAAoAAAAAAQAABAAAAAABAAAAAAAAAAEAAAIAAAAAAQAACgAAAAABAAAEAAAAAAEAAAAAAAAAAQAAAgAAAAABAAAKAAAAAAEAAAQAAAAAAQAAAAAAAAABAAACAAAAAAEAAAoAAAAAAQAABAAAAAABAAAAAAAAAAEAAAIAAAAAAQAACgAAAAABAAAEAAAAAAEAAAAAAAAAAQAAAgAAAAABAAAKAAAAAAEAAAQAAAAAAQAAAAAAAAABAAACAAAAAAEAAAoAAAAAAQAABAAAAAABAAAAAAAAAAEAAAIAAAAAAQAACgAAAAABAAAEAAAAAAEAAAAAAAAAAQAAAgAAAAABAAAKAAAAAAEAAAQAAAAAAQAAAAAAAAABAAACAAAAAAEAAAoAAAAAAQAABAAAAAABAAAAAAAAAAEAAAIAAAAAAgAABAAAAAABAAAKAAAAAAEAAAQAAAAAAQAAAAAAAAABAAACAAAAAAEAAAYAAAAAAQAAAgAAAAAcc3RzYwAAAAAAAAABAAAAAQAAAMoAAAABAAADPHN0c3oAAAAAAAAAAAAAAMoAAAWJAAAAGQAAABMAAAASAAAAGwAAABIAAAAUAAAAFAAAABcAAAAUAAAAHwAAABwAAAAcAAAAGQAAABgAAAATAAAAFAAAAB0AAAATAAAAEwAAABcAAAAUAAAAFgAAABQAAAAWAAAAFAAAABYAAAAUAAAAFgAAABQAAAAWAAAAFAAAABYAAAAUAAAAFgAAABQAAAAWAAAAFAAAABcAAAAUAAAAGQAAABIAAAAUAAAAFAAAABYAAAAQAAAAFAAAABQAAAAeAAAAFgAAABAAAAATAAAAFAAAABcAAAAQAAAAFAAAABQAAAAXAAAAEAAAABQAAAAUAAAAFwAAABAAAAAUAAAAFAAAABcAAAAQAAAAFAAAABQAAAAiAAAAGQAAABMAAAATAAAAHgAAABQAAAAfAAAAFAAAABQAAAATAAAAFwAAABAAAAAUAAAAFAAAACUAAAAZAAAAEwAAABMAAAAiAAAAFAAAABQAAAAUAAAAFgAAABAAAAAUAAAAFAAAAB0AAAATAAAAEQAAACQAAAAUAAAAIAAAABQAAAATAAAAFAAAAB4AAAAdAAAAFgAAABAAAAAUAAAAFAAAABcAAAAQAAAAFAAAABQAAAAXAAAAEAAAABQAAAAUAAAAFwAAABAAAAAUAAAAFAAAABcAAAAQAAAAFAAAABQAAAAXAAAAEAAAABQAAAAUAAAAFwAAABAAAAAUAAAAFAAAABcAAAAQAAAAFAAAABQAAAAXAAAAEAAAABQAAAAUAAAAFwAAABAAAAAUAAAAFAAAABcAAAAQAAAAFAAAABQAAAAXAAAAEAAAABQAAAAUAAAAFwAAABAAAAAUAAAAFAAAABcAAAAQAAAAFAAAABQAAAAXAAAAEAAAABQAAAAUAAAAFwAAABAAAAAUAAAAFAAAABcAAAAQAAAAFAAAABQAAAAXAAAAEAAAABQAAAAUAAAAFwAAABAAAAAUAAAAFAAAABcAAAAQAAAAFAAAABQAAAAWAAAAEAAAABQAAAAUAAAAIAAAABkAAAATAAAAEwAAAB0AAAAdAAAAFQAAABAAAAAUAAAAFAAAAB8AAAAoAAAAFHN0Y28AAAAAAAAAAQAAADAAAABidWR0YQAAAFptZXRhAAAAAAAAACFoZGxyAAAAAAAAAABtZGlyYXBwbAAAAAAAAAAAAAAAAC1pbHN0AAAAJal0b28AAAAdZGF0YQAAAAEAAAAATGF2ZjU3LjgzLjEwMA==\" type=\"video/mp4\" />\n",
              "             </video>"
            ],
            "text/plain": [
              "<IPython.core.display.HTML object>"
            ]
          },
          "metadata": {
            "tags": []
          },
          "execution_count": 41
        }
      ]
    },
    {
      "cell_type": "markdown",
      "metadata": {
        "id": "6cfw8_JsuOB7",
        "colab_type": "text"
      },
      "source": [
        "***\n",
        "***\n",
        "__Question 8__ Implement the DQN training algorithm using a CNN (for example, 2 convolutional layers and one final fully connected layer)."
      ]
    },
    {
      "cell_type": "code",
      "metadata": {
        "id": "2Q8BjJzvuOB_",
        "colab_type": "code",
        "colab": {}
      },
      "source": [
        "class DQN_CNN(DQN):\n",
        "    def __init__(self, *args,lr=0.1,**kwargs):\n",
        "        super(DQN_CNN, self).__init__(*args,**kwargs)\n",
        "        \n",
        "        ###### FILL IN\n",
        "\n",
        "        model = Sequential()\n",
        "        model.add(Conv2D(32, (3,3), activation='relu', padding='same', input_shape=(5,5,self.n_state)))\n",
        "        model.add(MaxPooling2D())\n",
        "        model.add(Dropout(0.5))\n",
        "        model.add(Conv2D(64, (3,3), activation='relu', padding='same'))\n",
        "        model.add(AveragePooling2D(1)) #model.add(MaxPooling2D(2)) \n",
        "        model.add(Dropout(0.5))\n",
        "        model.add(Dense(64, activation='relu'))\n",
        "        model.add(Dropout(0.5))\n",
        "        model.add(Flatten())\n",
        "        model.add(Dense(output_dim=4, activation='sigmoid'))\n",
        "\n",
        "        \n",
        "        model.compile(sgd(lr=lr, decay=1e-4, momentum=0.0), \"mse\")\n",
        "        self.model = model"
      ],
      "execution_count": 0,
      "outputs": []
    },
    {
      "cell_type": "code",
      "metadata": {
        "id": "jNcEALXwuOCO",
        "colab_type": "code",
        "outputId": "b2ddd21d-9187-45c6-925d-5ab568a19a55",
        "colab": {
          "base_uri": "https://localhost:8080/",
          "height": 840
        }
      },
      "source": [
        "env = Environment(grid_size=size, max_time=T, temperature=0.3)\n",
        "agent = DQN_CNN(size, lr=.1, epsilon = 0.1, memory_size=2000, batch_size = 64)\n",
        "train(agent,env,epochs_train,prefix='cnn_train')\n",
        "HTML(display_videos('cnn_train10.mp4'))"
      ],
      "execution_count": 43,
      "outputs": [
        {
          "output_type": "stream",
          "text": [
            "WARNING:tensorflow:From /usr/local/lib/python3.6/dist-packages/keras/backend/tensorflow_backend.py:4267: The name tf.nn.max_pool is deprecated. Please use tf.nn.max_pool2d instead.\n",
            "\n",
            "WARNING:tensorflow:From /usr/local/lib/python3.6/dist-packages/keras/backend/tensorflow_backend.py:148: The name tf.placeholder_with_default is deprecated. Please use tf.compat.v1.placeholder_with_default instead.\n",
            "\n",
            "WARNING:tensorflow:From /usr/local/lib/python3.6/dist-packages/keras/backend/tensorflow_backend.py:3733: calling dropout (from tensorflow.python.ops.nn_ops) with keep_prob is deprecated and will be removed in a future version.\n",
            "Instructions for updating:\n",
            "Please use `rate` instead of `keep_prob`. Rate should be set to `rate = 1 - keep_prob`.\n",
            "WARNING:tensorflow:From /usr/local/lib/python3.6/dist-packages/keras/backend/tensorflow_backend.py:4271: The name tf.nn.avg_pool is deprecated. Please use tf.nn.avg_pool2d instead.\n",
            "\n"
          ],
          "name": "stdout"
        },
        {
          "output_type": "stream",
          "text": [
            "/usr/local/lib/python3.6/dist-packages/ipykernel_launcher.py:17: UserWarning: Update your `Dense` call to the Keras 2 API: `Dense(activation=\"sigmoid\", units=4)`\n"
          ],
          "name": "stderr"
        },
        {
          "output_type": "stream",
          "text": [
            "Epoch 000/021 | Loss 0.0350 | Win/lose count 3.0/3.0 (0.0)\n",
            "Epoch 001/021 | Loss 0.0065 | Win/lose count 4.5/2.0 (2.5)\n",
            "Epoch 002/021 | Loss 0.0071 | Win/lose count 3.5/2.0 (1.5)\n",
            "Epoch 003/021 | Loss 0.0063 | Win/lose count 3.0/0 (3.0)\n",
            "Epoch 004/021 | Loss 0.0008 | Win/lose count 2.5/3.0 (-0.5)\n",
            "Epoch 005/021 | Loss 0.0024 | Win/lose count 2.0/4.0 (-2.0)\n",
            "Epoch 006/021 | Loss 0.0012 | Win/lose count 1.5/2.0 (-0.5)\n",
            "Epoch 007/021 | Loss 0.0042 | Win/lose count 3.0/3.0 (0.0)\n",
            "Epoch 008/021 | Loss 0.0011 | Win/lose count 1.5/0 (1.5)\n",
            "Epoch 009/021 | Loss 0.0048 | Win/lose count 5.0/5.0 (0.0)\n",
            "Epoch 010/021 | Loss 0.0098 | Win/lose count 1.5/3.0 (-1.5)\n",
            "Epoch 011/021 | Loss 0.0090 | Win/lose count 2.5/7.0 (-4.5)\n",
            "Epoch 012/021 | Loss 0.0050 | Win/lose count 2.0/2.0 (0.0)\n",
            "Epoch 013/021 | Loss 0.0059 | Win/lose count 1.5/2.0 (-0.5)\n",
            "Epoch 014/021 | Loss 0.0087 | Win/lose count 0.5/4.0 (-3.5)\n",
            "Epoch 015/021 | Loss 0.0021 | Win/lose count 2.5/1.0 (1.5)\n",
            "Epoch 016/021 | Loss 0.0107 | Win/lose count 2.0/3.0 (-1.0)\n",
            "Epoch 017/021 | Loss 0.0080 | Win/lose count 3.5/1.0 (2.5)\n",
            "Epoch 018/021 | Loss 0.0068 | Win/lose count 2.5/4.0 (-1.5)\n",
            "Epoch 019/021 | Loss 0.0059 | Win/lose count 3.5/6.0 (-2.5)\n",
            "Epoch 020/021 | Loss 0.0018 | Win/lose count 2.0/3.0 (-1.0)\n"
          ],
          "name": "stdout"
        },
        {
          "output_type": "execute_result",
          "data": {
            "text/html": [
              "<video alt=\"test\" controls>\n",
              "                <source src=\"data:video/mp4;base64,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\" type=\"video/mp4\" />\n",
              "             </video>"
            ],
            "text/plain": [
              "<IPython.core.display.HTML object>"
            ]
          },
          "metadata": {
            "tags": []
          },
          "execution_count": 43
        }
      ]
    },
    {
      "cell_type": "markdown",
      "metadata": {
        "id": "avXfST6ruOCa",
        "colab_type": "text"
      },
      "source": [
        "***\n",
        "***\n",
        "__Question 9__ Test both algorithms and compare their performances. Which issue(s) do you observe? Observe also different behaviors by changing the temperature."
      ]
    },
    {
      "cell_type": "code",
      "metadata": {
        "id": "cebaUtINuOCe",
        "colab_type": "code",
        "outputId": "3f2ffe7f-f718-4706-b33a-8534e00e5f21",
        "colab": {
          "base_uri": "https://localhost:8080/",
          "height": 833
        }
      },
      "source": [
        "env = Environment(grid_size=size, max_time=T,temperature=0.4)\n",
        "agent_cnn = DQN_CNN(size, lr=.1, epsilon = 0.1, memory_size=2000, batch_size = 64)\n",
        "agent_cnn.load(name_weights='cnn_trainmodel.h5',name_model='cnn_trainmodel.json')\n",
        "\n",
        "agent_fc = DQN_FC(size, lr=.1, epsilon = 0.1, memory_size=2000, batch_size = 64)\n",
        "agent_cnn.load(name_weights='fc_trainmodel.h5',name_model='fc_trainmodel.json')\n",
        "print('Test of the CNN')\n",
        "test(agent_cnn,env,epochs_test,prefix='cnn_test')\n",
        "print('Test of the FC')\n",
        "test(agent_fc,env,epochs_test,prefix='fc_test')"
      ],
      "execution_count": 44,
      "outputs": [
        {
          "output_type": "stream",
          "text": [
            "/usr/local/lib/python3.6/dist-packages/ipykernel_launcher.py:17: UserWarning: Update your `Dense` call to the Keras 2 API: `Dense(activation=\"sigmoid\", units=4)`\n",
            "/usr/local/lib/python3.6/dist-packages/ipykernel_launcher.py:76: UserWarning: Update your `Dense` call to the Keras 2 API: `Dense(units=4)`\n"
          ],
          "name": "stderr"
        },
        {
          "output_type": "stream",
          "text": [
            "Test of the CNN\n",
            "Win/lose count 1.5/0. Average score (1.5)\n",
            "Win/lose count 5.0/0. Average score (3.25)\n",
            "Win/lose count 2.5/1.0. Average score (2.6666666666666665)\n",
            "Win/lose count 3.0/0. Average score (2.75)\n",
            "Win/lose count 1.5/0. Average score (2.5)\n",
            "Win/lose count 0/0. Average score (2.0833333333333335)\n",
            "Win/lose count 3.0/0. Average score (2.2142857142857144)\n",
            "Win/lose count 1.0/0. Average score (2.0625)\n",
            "Win/lose count 1.5/1.0. Average score (1.8888888888888888)\n",
            "Win/lose count 4.0/0. Average score (2.1)\n",
            "Win/lose count 0.5/2.0. Average score (1.7727272727272727)\n",
            "Win/lose count 2.5/0. Average score (1.8333333333333333)\n",
            "Win/lose count 3.0/1.0. Average score (1.8461538461538463)\n",
            "Win/lose count 3.5/1.0. Average score (1.8928571428571428)\n",
            "Win/lose count 1.5/1.0. Average score (1.8)\n",
            "Win/lose count 2.5/0. Average score (1.84375)\n",
            "Win/lose count 3.5/1.0. Average score (1.8823529411764706)\n",
            "Win/lose count 0/0. Average score (1.7777777777777777)\n",
            "Win/lose count 2.0/0. Average score (1.7894736842105263)\n",
            "Win/lose count 0.5/1.0. Average score (1.675)\n",
            "Win/lose count 4.0/0. Average score (1.7857142857142858)\n",
            "Final score: 1.7857142857142858\n",
            "Test of the FC\n",
            "Win/lose count 1.5/0. Average score (1.5)\n",
            "Win/lose count 1.5/3.0. Average score (0.0)\n",
            "Win/lose count 1.0/1.0. Average score (0.0)\n",
            "Win/lose count 2.0/3.0. Average score (-0.25)\n",
            "Win/lose count 3.0/1.0. Average score (0.2)\n",
            "Win/lose count 0.5/1.0. Average score (0.08333333333333333)\n",
            "Win/lose count 1.5/0. Average score (0.2857142857142857)\n",
            "Win/lose count 1.0/3.0. Average score (0.0)\n",
            "Win/lose count 0/1.0. Average score (-0.1111111111111111)\n",
            "Win/lose count 1.5/2.0. Average score (-0.15)\n",
            "Win/lose count 3.0/2.0. Average score (-0.045454545454545456)\n",
            "Win/lose count 1.0/0. Average score (0.041666666666666664)\n",
            "Win/lose count 1.0/1.0. Average score (0.038461538461538464)\n",
            "Win/lose count 1.5/0. Average score (0.14285714285714285)\n",
            "Win/lose count 0/0. Average score (0.13333333333333333)\n",
            "Win/lose count 2.5/4.0. Average score (0.03125)\n",
            "Win/lose count 2.0/2.0. Average score (0.029411764705882353)\n",
            "Win/lose count 1.5/0. Average score (0.1111111111111111)\n",
            "Win/lose count 0.5/2.0. Average score (0.02631578947368421)\n",
            "Win/lose count 1.0/0. Average score (0.075)\n",
            "Win/lose count 2.5/5.0. Average score (-0.047619047619047616)\n",
            "Final score: -0.047619047619047616\n"
          ],
          "name": "stdout"
        }
      ]
    },
    {
      "cell_type": "code",
      "metadata": {
        "id": "beaNd8upuOCn",
        "colab_type": "code",
        "outputId": "38f053c3-54ba-4a52-d11a-2b5776a4e5f7",
        "colab": {
          "base_uri": "https://localhost:8080/",
          "height": 293
        }
      },
      "source": [
        "HTML(display_videos('cnn_test10.mp4'))"
      ],
      "execution_count": 45,
      "outputs": [
        {
          "output_type": "execute_result",
          "data": {
            "text/html": [
              "<video alt=\"test\" controls>\n",
              "                <source src=\"data:video/mp4;base64,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\" type=\"video/mp4\" />\n",
              "             </video>"
            ],
            "text/plain": [
              "<IPython.core.display.HTML object>"
            ]
          },
          "metadata": {
            "tags": []
          },
          "execution_count": 45
        }
      ]
    },
    {
      "cell_type": "code",
      "metadata": {
        "id": "Rg27uNIOuOC-",
        "colab_type": "code",
        "outputId": "38a606d4-536d-497c-b397-611255edc85d",
        "colab": {
          "base_uri": "https://localhost:8080/",
          "height": 293
        }
      },
      "source": [
        "HTML(display_videos('fc_test10.mp4'))"
      ],
      "execution_count": 46,
      "outputs": [
        {
          "output_type": "execute_result",
          "data": {
            "text/html": [
              "<video alt=\"test\" controls>\n",
              "                <source src=\"data:video/mp4;base64,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\" type=\"video/mp4\" />\n",
              "             </video>"
            ],
            "text/plain": [
              "<IPython.core.display.HTML object>"
            ]
          },
          "metadata": {
            "tags": []
          },
          "execution_count": 46
        }
      ]
    },
    {
      "cell_type": "markdown",
      "metadata": {
        "id": "JfClxu8RuODL",
        "colab_type": "text"
      },
      "source": [
        "CNN is better than FC. Issue I observe: at some point, the rat loops...we should try and mike that rat explore the map. Moreover score is better when temperature is higher: this is normal since there are more reward. When temperature is higher, the moment when the rat starts to loop undefinitely is later then with low temperatures."
      ]
    },
    {
      "cell_type": "markdown",
      "metadata": {
        "id": "OH1OY7qUuODR",
        "colab_type": "text"
      },
      "source": [
        "***\n",
        "\n",
        "The algorithm tends to not explore the map which can be an issue. We propose two ideas in order to encourage exploration:\n",
        "1. Incorporating a decreasing $\\epsilon$-greedy exploration. You can use the method ```set_epsilon```\n",
        "2. Append via the environment a new state that describes if a cell has been visited or not\n",
        "\n",
        "***\n",
        "__Question 10__ Design a new ```train_explore``` function and environment class ```EnvironmentExploring``` to tackle the issue of exploration.\n",
        "\n"
      ]
    },
    {
      "cell_type": "code",
      "metadata": {
        "id": "8shxLaLUuODU",
        "colab_type": "code",
        "colab": {}
      },
      "source": [
        "class Agent(object):\n",
        "    def __init__(self, epsilon, n_action=4):\n",
        "        self.epsilon = epsilon\n",
        "        self.n_action = n_action\n",
        "    \n",
        "    def set_epsilon(self,e):\n",
        "        self.epsilon = e\n",
        "\n",
        "    def act(self,s,train=True):\n",
        "        \"\"\" This function should return the next action to do:\n",
        "        an integer between 0 and 4 (not included) with a random exploration of epsilon\"\"\"\n",
        "        if train:\n",
        "            if np.random.rand() <= self.epsilon:\n",
        "                a = np.random.randint(0, self.n_action, size=1)[0]\n",
        "            else:\n",
        "                a = self.learned_act(s)\n",
        "        else: # in some cases, this can improve the performance.. remove it if poor performances\n",
        "            a = self.learned_act(s)\n",
        "\n",
        "        return a\n",
        "\n",
        "    def learned_act(self,s):\n",
        "        \"\"\" Act via the policy of the agent, from a given state s\n",
        "        it proposes an action a\"\"\"\n",
        "        pass\n",
        "\n",
        "    def reinforce(self, s, n_s, a, r, game_over_):\n",
        "        \"\"\" This function is the core of the learning algorithm. \n",
        "        It takes as an input the current state s_, the next state n_s_\n",
        "        the action a_ used to move from s_ to n_s_ and the reward r_.\n",
        "        \n",
        "        Its goal is to learn a policy.\n",
        "        \"\"\"\n",
        "        pass\n",
        "\n",
        "    def save(self):\n",
        "        \"\"\" This function returns basic stats if applicable: the\n",
        "        loss and/or the model\"\"\"\n",
        "        pass\n",
        "\n",
        "    def load(self):\n",
        "        \"\"\" This function allows to restore a model\"\"\"\n",
        "        pass\n",
        "\n",
        "def test_explore(agent,env,epochs,prefix=''):\n",
        "    # Number of won games\n",
        "    score = 0\n",
        "        \n",
        "    for e in range(epochs):\n",
        "        \n",
        "        # At each epoch, we restart to a fresh game and get the initial state\n",
        "        state = env.reset()\n",
        "\n",
        "        # This assumes that the games will end\n",
        "        game_over = False\n",
        "\n",
        "        win = 0\n",
        "        lose = 0\n",
        "\n",
        "        while not game_over:\n",
        "          # The agent performs an action\n",
        "          action = agent.learned_act(state) \n",
        "\n",
        "          # Apply an action to the environment, get the next state, the reward\n",
        "          # and if the games end\n",
        "          prev_state = state\n",
        "          state, reward, game_over = env.act(action, train=True)\n",
        "\n",
        "          # Update the counters\n",
        "          if reward > 0:\n",
        "              win = win + reward\n",
        "          if reward < 0:\n",
        "              lose = lose -reward\n",
        "        \n",
        "        # Save as a mp4\n",
        "        env.draw(prefix+str(e))\n",
        "\n",
        "        # Update stats\n",
        "        score = score + win-lose\n",
        "\n",
        "        print(\"Win/lose count {}/{}. Average score ({})\"\n",
        "              .format(win, lose, score/(1+e)))\n",
        "    print('Final score: '+str(score/epochs))\n",
        "\n",
        "def train_explore(agent,env,epoch,prefix=''):\n",
        "    # Number of won games\n",
        "    score = 0\n",
        "    loss = 0\n",
        "\n",
        "    for e in range(epoch):\n",
        "        # At each epoch, we restart to a fresh game and get the initial state\n",
        "        state = env.reset()\n",
        "        # This assumes that the games will terminate\n",
        "        game_over = False\n",
        "\n",
        "        win = 0\n",
        "        lose = 0\n",
        "\n",
        "        while not game_over:\n",
        "            # The agent performs an action\n",
        "            action = agent.act(state)\n",
        "            # Apply an action to the environment, get the next state, the reward\n",
        "            # and if the games end\n",
        "            prev_state = state\n",
        "            state, reward, game_over = env.act(action, train=True)\n",
        "\n",
        "            # Update the counters\n",
        "            if reward > 0:\n",
        "                win = win + reward\n",
        "            if reward < 0:\n",
        "                lose = lose -reward\n",
        "\n",
        "            # Apply the reinforcement strategy\n",
        "            loss = agent.reinforce(prev_state, state,  action, reward, game_over)\n",
        "\n",
        "        # decreasing eps greedy explo:\n",
        "        if agent.epsilon>=0.1:\n",
        "          agent.set_epsilon(agent.epsilon-0.02)\n",
        "        print(agent.epsilon)\n",
        "\n",
        "        # Save as a mp4\n",
        "        if e % 10 == 0:\n",
        "            env.draw(prefix+str(e))\n",
        "\n",
        "        # Update stats\n",
        "        score += win-lose\n",
        "\n",
        "        print(\"Epoch {:03d}/{:03d} | Loss {:.4f} | Win/lose count {}/{} ({})\"\n",
        "              .format(e, epoch, loss, win, lose, win-lose))\n",
        "        agent.save(name_weights=prefix+'model.h5',name_model=prefix+'model.json')\n",
        "        \n",
        "class EnvironmentExploring(object):\n",
        "    def __init__(self, grid_size=10, max_time=500, temperature=0.1):\n",
        "        grid_size = grid_size+4\n",
        "        self.grid_size = grid_size\n",
        "        self.max_time = max_time\n",
        "        self.temperature = temperature\n",
        "\n",
        "        #board on which one plays\n",
        "        self.board = np.zeros((grid_size,grid_size))\n",
        "        self.position = np.zeros((grid_size,grid_size))\n",
        "        self.malus_position = np.zeros((grid_size,grid_size))\n",
        "\n",
        "        # coordinate of the cat\n",
        "        self.x = 0\n",
        "        self.y = 1\n",
        "\n",
        "        # self time\n",
        "        self.t = 0\n",
        "\n",
        "        self.scale=16\n",
        "\n",
        "        self.to_draw = np.zeros((max_time+2, grid_size*self.scale, grid_size*self.scale, 3))\n",
        "\n",
        "\n",
        "    def draw(self,e):\n",
        "        skvideo.io.vwrite(str(e) + '.mp4', self.to_draw)\n",
        "\n",
        "    def get_frame(self,t):\n",
        "        b = np.zeros((self.grid_size,self.grid_size,3))+128\n",
        "        b[self.board>0,0] = 256\n",
        "        b[self.board < 0, 2] = 256\n",
        "        b[self.x,self.y,:]=256\n",
        "        b[-2:,:,:]=0\n",
        "        b[:,-2:,:]=0\n",
        "        b[:2,:,:]=0\n",
        "        b[:,:2,:]=0\n",
        "        \n",
        "        b =  cv2.resize(b, None, fx=self.scale, fy=self.scale, interpolation=cv2.INTER_NEAREST)\n",
        "\n",
        "        self.to_draw[t,:,:,:]=b\n",
        "\n",
        "\n",
        "    def act(self, action, train):\n",
        "        \"\"\"This function returns the new state, reward and decides if the\n",
        "        game ends.\"\"\" \n",
        "\n",
        "        self.get_frame(int(self.t))\n",
        "\n",
        "        self.position = np.zeros((self.grid_size, self.grid_size))\n",
        "\n",
        "        self.position[0:2,:]= -1\n",
        "        self.position[:,0:2] = -1\n",
        "        self.position[-2:, :] = -1\n",
        "        self.position[-2:, :] = -1\n",
        "\n",
        "        self.position[self.x, self.y] = 1\n",
        "        if action == 0:\n",
        "            if self.x == self.grid_size-3:\n",
        "                self.x = self.x-1\n",
        "            else:\n",
        "                self.x = self.x + 1\n",
        "        elif action == 1:\n",
        "            if self.x == 2:\n",
        "                self.x = self.x+1\n",
        "            else:\n",
        "                self.x = self.x-1\n",
        "        elif action == 2:\n",
        "            if self.y == self.grid_size - 3:\n",
        "                self.y = self.y - 1\n",
        "            else:\n",
        "                self.y = self.y + 1\n",
        "        elif action == 3:\n",
        "            if self.y == 2:\n",
        "                self.y = self.y + 1\n",
        "            else:\n",
        "                self.y = self.y - 1\n",
        "        else:\n",
        "            RuntimeError('Error: action not recognized')\n",
        "\n",
        "        self.t = self.t + 1\n",
        "        reward = 0\n",
        "        if train:\n",
        "            reward = -self.malus_position[self.x, self.y]\n",
        "        self.malus_position[self.x, self.y] = 0.1\n",
        "\n",
        "        reward = reward + self.board[self.x, self.y]\n",
        "\n",
        "        self.board[self.x, self.y] = 0\n",
        "        game_over = self.t > self.max_time\n",
        "        # 3 \"feature\" states instead of 2\n",
        "        state = np.concatenate((self.malus_position.reshape(self.grid_size, self.grid_size,1),\n",
        "                                        self.board.reshape(self.grid_size, self.grid_size,1),\n",
        "                                self.position.reshape(self.grid_size, self.grid_size,1)),axis=2)\n",
        "          \n",
        "        state = state[self.x-2:self.x+3,self.y-2:self.y+3,:]\n",
        "\n",
        "        return state, reward, game_over\n",
        "\n",
        "    def reset(self):\n",
        "        \"\"\"This function resets the game and returns the initial state\"\"\"\n",
        "\n",
        "        self.x = np.random.randint(3, self.grid_size-3, size=1)[0]\n",
        "        self.y = np.random.randint(3, self.grid_size-3, size=1)[0]\n",
        "\n",
        "\n",
        "        bonus = 0.5*np.random.binomial(1,self.temperature,size=self.grid_size**2)\n",
        "        bonus = bonus.reshape(self.grid_size,self.grid_size)\n",
        "\n",
        "        malus = -1.0*np.random.binomial(1,self.temperature,size=self.grid_size**2)\n",
        "        malus = malus.reshape(self.grid_size, self.grid_size)\n",
        "\n",
        "        self.to_draw = np.zeros((self.max_time+2, self.grid_size*self.scale, self.grid_size*self.scale, 3))\n",
        "\n",
        "\n",
        "        malus[bonus>0]=0\n",
        "\n",
        "        self.board = bonus + malus\n",
        "\n",
        "        self.position = np.zeros((self.grid_size, self.grid_size))\n",
        "        self.position[0:2,:]= -1\n",
        "        self.position[:,0:2] = -1\n",
        "        self.position[-2:, :] = -1\n",
        "        self.position[-2:, :] = -1\n",
        "        self.board[self.x,self.y] = 0\n",
        "        self.t = 0\n",
        "\n",
        "        state = np.concatenate((self.malus_position.reshape(self.grid_size, self.grid_size,1),\n",
        "                                        self.board.reshape(self.grid_size, self.grid_size,1),\n",
        "                                self.position.reshape(self.grid_size, self.grid_size,1)),axis=2)\n",
        "\n",
        "        state = state[self.x - 2:self.x + 3, self.y - 2:self.y + 3, :]  \n",
        "        return state\n",
        "    "
      ],
      "execution_count": 0,
      "outputs": []
    },
    {
      "cell_type": "code",
      "metadata": {
        "id": "y9k20f_W_JvP",
        "colab_type": "code",
        "colab": {}
      },
      "source": [
        "epochs_train=100\n",
        "epochs_test=100"
      ],
      "execution_count": 0,
      "outputs": []
    },
    {
      "cell_type": "code",
      "metadata": {
        "id": "zdgpAJeGuODd",
        "colab_type": "code",
        "outputId": "a4c596b7-29a9-4843-aeab-0e055381512c",
        "colab": {
          "base_uri": "https://localhost:8080/",
          "height": 1000
        }
      },
      "source": [
        "# Training\n",
        "env = EnvironmentExploring(grid_size=size, max_time=T, temperature=0.3)\n",
        "agent = DQN_CNN(size, lr=.1, epsilon = 1, memory_size=2000, batch_size = 64,n_state=3)\n",
        "train_explore(agent, env, epochs_train, prefix='cnn_train_explore')\n",
        "HTML(display_videos('cnn_train_explore10.mp4'))"
      ],
      "execution_count": 49,
      "outputs": [
        {
          "output_type": "stream",
          "text": [
            "/usr/local/lib/python3.6/dist-packages/ipykernel_launcher.py:17: UserWarning: Update your `Dense` call to the Keras 2 API: `Dense(activation=\"sigmoid\", units=4)`\n"
          ],
          "name": "stderr"
        },
        {
          "output_type": "stream",
          "text": [
            "0.98\n",
            "Epoch 000/100 | Loss 0.0249 | Win/lose count 7.5/28.10000000000011 (-20.60000000000011)\n",
            "0.96\n",
            "Epoch 001/100 | Loss 0.0204 | Win/lose count 8.8/25.500000000000085 (-16.700000000000085)\n",
            "0.94\n",
            "Epoch 002/100 | Loss 0.0151 | Win/lose count 6.200000000000001/26.80000000000012 (-20.600000000000122)\n",
            "0.9199999999999999\n",
            "Epoch 003/100 | Loss 0.0246 | Win/lose count 5.6000000000000005/26.500000000000092 (-20.90000000000009)\n",
            "0.8999999999999999\n",
            "Epoch 004/100 | Loss 0.0275 | Win/lose count 9.600000000000003/29.700000000000106 (-20.1000000000001)\n",
            "0.8799999999999999\n",
            "Epoch 005/100 | Loss 0.0295 | Win/lose count 5.2/29.800000000000164 (-24.600000000000165)\n",
            "0.8599999999999999\n",
            "Epoch 006/100 | Loss 0.0139 | Win/lose count 3.1999999999999997/29.20000000000012 (-26.00000000000012)\n",
            "0.8399999999999999\n",
            "Epoch 007/100 | Loss 0.0138 | Win/lose count 6.100000000000001/33.50000000000014 (-27.40000000000014)\n",
            "0.8199999999999998\n",
            "Epoch 008/100 | Loss 0.0243 | Win/lose count 8.000000000000002/25.1000000000001 (-17.1000000000001)\n",
            "0.7999999999999998\n",
            "Epoch 009/100 | Loss 0.0338 | Win/lose count 3.9999999999999996/36.10000000000013 (-32.10000000000013)\n",
            "0.7799999999999998\n",
            "Epoch 010/100 | Loss 0.0371 | Win/lose count 7.3000000000000025/33.10000000000008 (-25.800000000000075)\n",
            "0.7599999999999998\n",
            "Epoch 011/100 | Loss 0.0254 | Win/lose count 5.2/27.800000000000093 (-22.600000000000094)\n",
            "0.7399999999999998\n",
            "Epoch 012/100 | Loss 0.0225 | Win/lose count 5.2/25.700000000000045 (-20.500000000000046)\n",
            "0.7199999999999998\n",
            "Epoch 013/100 | Loss 0.0137 | Win/lose count 2.8/28.300000000000136 (-25.500000000000135)\n",
            "0.6999999999999997\n",
            "Epoch 014/100 | Loss 0.0125 | Win/lose count 4.8/26.900000000000134 (-22.100000000000133)\n",
            "0.6799999999999997\n",
            "Epoch 015/100 | Loss 0.0154 | Win/lose count 4.8/25.900000000000095 (-21.100000000000094)\n",
            "0.6599999999999997\n",
            "Epoch 016/100 | Loss 0.0108 | Win/lose count 7.200000000000002/27.30000000000013 (-20.100000000000126)\n",
            "0.6399999999999997\n",
            "Epoch 017/100 | Loss 0.0155 | Win/lose count 4.8/24.90000000000006 (-20.10000000000006)\n",
            "0.6199999999999997\n",
            "Epoch 018/100 | Loss 0.0131 | Win/lose count 4.3999999999999995/25.000000000000096 (-20.600000000000097)\n",
            "0.5999999999999996\n",
            "Epoch 019/100 | Loss 0.0148 | Win/lose count 3.5999999999999996/27.200000000000124 (-23.600000000000122)\n",
            "0.5799999999999996\n",
            "Epoch 020/100 | Loss 0.0037 | Win/lose count 3.9999999999999996/25.10000000000009 (-21.10000000000009)\n",
            "0.5599999999999996\n",
            "Epoch 021/100 | Loss 0.0107 | Win/lose count 6.800000000000002/29.40000000000011 (-22.600000000000108)\n",
            "0.5399999999999996\n",
            "Epoch 022/100 | Loss 0.0148 | Win/lose count 3.5999999999999996/25.200000000000102 (-21.6000000000001)\n",
            "0.5199999999999996\n",
            "Epoch 023/100 | Loss 0.0131 | Win/lose count 1.6/24.70000000000009 (-23.10000000000009)\n",
            "0.49999999999999956\n",
            "Epoch 024/100 | Loss 0.0072 | Win/lose count 3.5999999999999996/32.20000000000014 (-28.600000000000136)\n",
            "0.47999999999999954\n",
            "Epoch 025/100 | Loss 0.0178 | Win/lose count 5.2/31.80000000000015 (-26.60000000000015)\n",
            "0.4599999999999995\n",
            "Epoch 026/100 | Loss 0.0289 | Win/lose count 4.3999999999999995/22.00000000000005 (-17.60000000000005)\n",
            "0.4399999999999995\n",
            "Epoch 027/100 | Loss 0.0131 | Win/lose count 4.3999999999999995/29.00000000000013 (-24.600000000000133)\n",
            "0.4199999999999995\n",
            "Epoch 028/100 | Loss 0.0266 | Win/lose count 5.2/25.8000000000001 (-20.6000000000001)\n",
            "0.39999999999999947\n",
            "Epoch 029/100 | Loss 0.0084 | Win/lose count 4.3999999999999995/23.000000000000036 (-18.600000000000037)\n",
            "0.37999999999999945\n",
            "Epoch 030/100 | Loss 0.0078 | Win/lose count 3.5999999999999996/23.200000000000067 (-19.600000000000065)\n",
            "0.35999999999999943\n",
            "Epoch 031/100 | Loss 0.0178 | Win/lose count 0.4/27.00000000000011 (-26.60000000000011)\n",
            "0.3399999999999994\n",
            "Epoch 032/100 | Loss 0.0090 | Win/lose count 3.9999999999999996/24.100000000000065 (-20.100000000000065)\n",
            "0.3199999999999994\n",
            "Epoch 033/100 | Loss 0.0084 | Win/lose count 6.000000000000001/25.600000000000044 (-19.600000000000044)\n",
            "0.2999999999999994\n",
            "Epoch 034/100 | Loss 0.0090 | Win/lose count 2.8/21.40000000000004 (-18.60000000000004)\n",
            "0.27999999999999936\n",
            "Epoch 035/100 | Loss 0.0078 | Win/lose count 3.1999999999999997/25.3000000000001 (-22.1000000000001)\n",
            "0.25999999999999934\n",
            "Epoch 036/100 | Loss 0.0142 | Win/lose count 7.200000000000002/27.300000000000068 (-20.100000000000065)\n",
            "0.23999999999999935\n",
            "Epoch 037/100 | Loss 0.0084 | Win/lose count 1.2000000000000002/26.80000000000008 (-25.60000000000008)\n",
            "0.21999999999999936\n",
            "Epoch 038/100 | Loss 0.0119 | Win/lose count 3.5999999999999996/20.20000000000002 (-16.600000000000023)\n",
            "0.19999999999999937\n",
            "Epoch 039/100 | Loss 0.0043 | Win/lose count 0.4/22.000000000000043 (-21.600000000000044)\n",
            "0.17999999999999938\n",
            "Epoch 040/100 | Loss 0.0096 | Win/lose count 6.000000000000001/22.600000000000026 (-16.600000000000026)\n",
            "0.1599999999999994\n",
            "Epoch 041/100 | Loss 0.0177 | Win/lose count 2.8/27.40000000000012 (-24.60000000000012)\n",
            "0.1399999999999994\n",
            "Epoch 042/100 | Loss 0.0125 | Win/lose count 1.2000000000000002/24.800000000000093 (-23.600000000000094)\n",
            "0.1199999999999994\n",
            "Epoch 043/100 | Loss 0.0025 | Win/lose count 4.3999999999999995/23.000000000000043 (-18.600000000000044)\n",
            "0.0999999999999994\n",
            "Epoch 044/100 | Loss 0.0037 | Win/lose count 2.0/24.600000000000087 (-22.600000000000087)\n",
            "0.0999999999999994\n",
            "Epoch 045/100 | Loss 0.0213 | Win/lose count 1.6/22.70000000000006 (-21.10000000000006)\n",
            "0.0999999999999994\n",
            "Epoch 046/100 | Loss 0.0037 | Win/lose count 2.8/21.40000000000004 (-18.60000000000004)\n",
            "0.0999999999999994\n",
            "Epoch 047/100 | Loss 0.0046 | Win/lose count 1.7000000000000002/23.700000000000074 (-22.000000000000075)\n",
            "0.0999999999999994\n",
            "Epoch 048/100 | Loss 0.0072 | Win/lose count 1.6/22.700000000000053 (-21.10000000000005)\n",
            "0.0999999999999994\n",
            "Epoch 049/100 | Loss 0.0125 | Win/lose count 1.6/20.700000000000028 (-19.100000000000026)\n",
            "0.0999999999999994\n",
            "Epoch 050/100 | Loss 0.0043 | Win/lose count 0.8/20.90000000000003 (-20.10000000000003)\n",
            "0.0999999999999994\n",
            "Epoch 051/100 | Loss 0.0089 | Win/lose count 4.8/25.900000000000098 (-21.100000000000097)\n",
            "0.0999999999999994\n",
            "Epoch 052/100 | Loss 0.0090 | Win/lose count 2.8/20.400000000000023 (-17.600000000000023)\n",
            "0.0999999999999994\n",
            "Epoch 053/100 | Loss 0.0137 | Win/lose count 5.2/24.70000000000008 (-19.50000000000008)\n",
            "0.0999999999999994\n",
            "Epoch 054/100 | Loss 0.0224 | Win/lose count 1.6/22.700000000000056 (-21.100000000000055)\n",
            "0.0999999999999994\n",
            "Epoch 055/100 | Loss 0.0025 | Win/lose count 0.8/20.90000000000003 (-20.10000000000003)\n",
            "0.0999999999999994\n",
            "Epoch 056/100 | Loss 0.0025 | Win/lose count 3.1999999999999997/21.300000000000022 (-18.100000000000023)\n",
            "0.0999999999999994\n",
            "Epoch 057/100 | Loss 0.0084 | Win/lose count 1.6/21.700000000000042 (-20.10000000000004)\n",
            "0.0999999999999994\n",
            "Epoch 058/100 | Loss 0.0072 | Win/lose count 1.6/24.700000000000088 (-23.100000000000087)\n",
            "0.0999999999999994\n",
            "Epoch 059/100 | Loss 0.0031 | Win/lose count 0.8/21.90000000000003 (-21.10000000000003)\n",
            "0.0999999999999994\n",
            "Epoch 060/100 | Loss 0.0228 | Win/lose count 4.6/26.800000000000093 (-22.200000000000095)\n",
            "0.0999999999999994\n",
            "Epoch 061/100 | Loss 0.0072 | Win/lose count 3.1999999999999997/23.300000000000068 (-20.10000000000007)\n",
            "0.0999999999999994\n",
            "Epoch 062/100 | Loss 0.0136 | Win/lose count 1.2000000000000002/22.800000000000058 (-21.60000000000006)\n",
            "0.0999999999999994\n",
            "Epoch 063/100 | Loss 0.0054 | Win/lose count 4.8/23.900000000000073 (-19.100000000000072)\n",
            "0.0999999999999994\n",
            "Epoch 064/100 | Loss 0.0048 | Win/lose count 3.5999999999999996/20.200000000000017 (-16.600000000000016)\n",
            "0.0999999999999994\n",
            "Epoch 065/100 | Loss 0.0025 | Win/lose count 2.0/26.600000000000122 (-24.600000000000122)\n",
            "0.0999999999999994\n",
            "Epoch 066/100 | Loss 0.0119 | Win/lose count 1.2000000000000002/24.80000000000007 (-23.600000000000072)\n",
            "0.0999999999999994\n",
            "Epoch 067/100 | Loss 0.0177 | Win/lose count 2.0/24.600000000000087 (-22.600000000000087)\n",
            "0.0999999999999994\n",
            "Epoch 068/100 | Loss 0.0172 | Win/lose count 1.6/23.700000000000053 (-22.10000000000005)\n",
            "0.0999999999999994\n",
            "Epoch 069/100 | Loss 0.0031 | Win/lose count 2.0/20.600000000000023 (-18.600000000000023)\n",
            "0.0999999999999994\n",
            "Epoch 070/100 | Loss 0.0236 | Win/lose count 4.8/24.900000000000077 (-20.100000000000076)\n",
            "0.0999999999999994\n",
            "Epoch 071/100 | Loss 0.0043 | Win/lose count 2.4/23.50000000000004 (-21.10000000000004)\n",
            "0.0999999999999994\n",
            "Epoch 072/100 | Loss 0.0031 | Win/lose count 2.8/21.40000000000004 (-18.60000000000004)\n",
            "0.0999999999999994\n",
            "Epoch 073/100 | Loss 0.0043 | Win/lose count 2.8/20.400000000000006 (-17.600000000000005)\n",
            "0.0999999999999994\n",
            "Epoch 074/100 | Loss 0.0025 | Win/lose count 2.0/21.600000000000044 (-19.600000000000044)\n",
            "0.0999999999999994\n",
            "Epoch 075/100 | Loss 0.0131 | Win/lose count 2.0/26.600000000000108 (-24.600000000000108)\n",
            "0.0999999999999994\n",
            "Epoch 076/100 | Loss 0.0090 | Win/lose count 2.0/20.600000000000023 (-18.600000000000023)\n",
            "0.0999999999999994\n",
            "Epoch 077/100 | Loss 0.0137 | Win/lose count 3.5999999999999996/27.200000000000134 (-23.600000000000136)\n",
            "0.0999999999999994\n",
            "Epoch 078/100 | Loss 0.0043 | Win/lose count 3.9999999999999996/19.1 (-15.100000000000001)\n",
            "0.0999999999999994\n",
            "Epoch 079/100 | Loss 0.0031 | Win/lose count 2.8/22.400000000000034 (-19.600000000000033)\n",
            "0.0999999999999994\n",
            "Epoch 080/100 | Loss 0.0031 | Win/lose count 2.0/28.60000000000014 (-26.60000000000014)\n",
            "0.0999999999999994\n",
            "Epoch 081/100 | Loss 0.0072 | Win/lose count 0.8/21.90000000000004 (-21.10000000000004)\n",
            "0.0999999999999994\n",
            "Epoch 082/100 | Loss 0.0037 | Win/lose count 2.0/20.600000000000026 (-18.600000000000026)\n",
            "0.0999999999999994\n",
            "Epoch 083/100 | Loss 0.0037 | Win/lose count 3.5999999999999996/23.200000000000074 (-19.600000000000072)\n",
            "0.0999999999999994\n",
            "Epoch 084/100 | Loss 0.0119 | Win/lose count 2.4/21.500000000000036 (-19.100000000000037)\n",
            "0.0999999999999994\n",
            "Epoch 085/100 | Loss 0.0037 | Win/lose count 2.4/21.50000000000004 (-19.10000000000004)\n",
            "0.0999999999999994\n",
            "Epoch 086/100 | Loss 0.0025 | Win/lose count 2.4/21.500000000000036 (-19.100000000000037)\n",
            "0.0999999999999994\n",
            "Epoch 087/100 | Loss 0.0131 | Win/lose count 2.8/23.40000000000007 (-20.60000000000007)\n",
            "0.0999999999999994\n",
            "Epoch 088/100 | Loss 0.0142 | Win/lose count 2.8/22.400000000000052 (-19.60000000000005)\n",
            "0.0999999999999994\n",
            "Epoch 089/100 | Loss 0.0136 | Win/lose count 2.8/21.40000000000003 (-18.60000000000003)\n",
            "0.0999999999999994\n",
            "Epoch 090/100 | Loss 0.0060 | Win/lose count 3.1999999999999997/23.300000000000075 (-20.100000000000076)\n",
            "0.0999999999999994\n",
            "Epoch 091/100 | Loss 0.0183 | Win/lose count 3.5999999999999996/23.200000000000067 (-19.600000000000065)\n",
            "0.0999999999999994\n",
            "Epoch 092/100 | Loss 0.0037 | Win/lose count 2.8/22.400000000000055 (-19.600000000000055)\n",
            "0.0999999999999994\n",
            "Epoch 093/100 | Loss 0.0031 | Win/lose count 1.2000000000000002/21.800000000000043 (-20.600000000000044)\n",
            "0.0999999999999994\n",
            "Epoch 094/100 | Loss 0.0031 | Win/lose count 2.8/23.40000000000007 (-20.60000000000007)\n",
            "0.0999999999999994\n",
            "Epoch 095/100 | Loss 0.0043 | Win/lose count 3.5999999999999996/24.000000000000068 (-20.40000000000007)\n",
            "0.0999999999999994\n",
            "Epoch 096/100 | Loss 0.0166 | Win/lose count 3.9999999999999996/23.100000000000055 (-19.100000000000055)\n",
            "0.0999999999999994\n",
            "Epoch 097/100 | Loss 0.0084 | Win/lose count 2.8/22.400000000000052 (-19.60000000000005)\n",
            "0.0999999999999994\n",
            "Epoch 098/100 | Loss 0.0025 | Win/lose count 4.3999999999999995/21.000000000000036 (-16.600000000000037)\n",
            "0.0999999999999994\n",
            "Epoch 099/100 | Loss 0.0219 | Win/lose count 4.3999999999999995/28.000000000000117 (-23.60000000000012)\n"
          ],
          "name": "stdout"
        },
        {
          "output_type": "execute_result",
          "data": {
            "text/html": [
              "<video alt=\"test\" controls>\n",
              "                <source src=\"data:video/mp4;base64,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\" type=\"video/mp4\" />\n",
              "             </video>"
            ],
            "text/plain": [
              "<IPython.core.display.HTML object>"
            ]
          },
          "metadata": {
            "tags": []
          },
          "execution_count": 49
        }
      ]
    },
    {
      "cell_type": "code",
      "metadata": {
        "id": "d_405fKjuODp",
        "colab_type": "code",
        "outputId": "360f8c4a-3cf2-4805-b9d7-d74c5cbfa052",
        "colab": {
          "base_uri": "https://localhost:8080/",
          "height": 1000
        }
      },
      "source": [
        "# Evaluation\n",
        "test_explore(agent,env,epochs_test,prefix='cnn_test_explore')\n",
        "HTML(display_videos('cnn_test_explore10.mp4'))"
      ],
      "execution_count": 52,
      "outputs": [
        {
          "output_type": "stream",
          "text": [
            "Win/lose count 1.6/19.70000000000001. Average score (-18.10000000000001)\n",
            "Win/lose count 0.8/21.90000000000004. Average score (-19.600000000000023)\n",
            "Win/lose count 0.4/20.000000000000014. Average score (-19.60000000000002)\n",
            "Win/lose count 0.8/19.900000000000013. Average score (-19.47500000000002)\n",
            "Win/lose count 0.8/21.90000000000004. Average score (-19.800000000000022)\n",
            "Win/lose count 0/21.100000000000033. Average score (-20.01666666666669)\n",
            "Win/lose count 0.8/19.900000000000013. Average score (-19.885714285714307)\n",
            "Win/lose count 2.4/21.500000000000036. Average score (-19.787500000000023)\n",
            "Win/lose count 0/25.100000000000094. Average score (-20.37777777777781)\n",
            "Win/lose count 0.4/20.000000000000014. Average score (-20.30000000000003)\n",
            "Win/lose count 0.8/22.900000000000055. Average score (-20.463636363636393)\n",
            "Win/lose count 0.4/23.000000000000057. Average score (-20.641666666666698)\n",
            "Win/lose count 1.2000000000000002/23.80000000000007. Average score (-20.792307692307727)\n",
            "Win/lose count 2.0/20.600000000000023. Average score (-20.63571428571432)\n",
            "Win/lose count 0.8/22.900000000000055. Average score (-20.733333333333366)\n",
            "Win/lose count 0.4/20.000000000000014. Average score (-20.662500000000033)\n",
            "Win/lose count 1.6/20.700000000000024. Average score (-20.57058823529415)\n",
            "Win/lose count 0.8/21.90000000000004. Average score (-20.600000000000033)\n",
            "Win/lose count 1.6/20.700000000000028. Average score (-20.52105263157898)\n",
            "Win/lose count 0.4/22.000000000000043. Average score (-20.575000000000035)\n",
            "Win/lose count 0.8/20.900000000000027. Average score (-20.552380952380986)\n",
            "Win/lose count 1.2000000000000002/21.80000000000004. Average score (-20.554545454545487)\n",
            "Win/lose count 1.2000000000000002/19.80000000000001. Average score (-20.469565217391338)\n",
            "Win/lose count 0/21.100000000000033. Average score (-20.495833333333366)\n",
            "Win/lose count 0.8/20.900000000000027. Average score (-20.480000000000032)\n",
            "Win/lose count 3.9999999999999996/19.1. Average score (-20.273076923076953)\n",
            "Win/lose count 0.8/20.900000000000027. Average score (-20.266666666666698)\n",
            "Win/lose count 1.2000000000000002/20.80000000000003. Average score (-20.242857142857172)\n",
            "Win/lose count 0.4/20.000000000000014. Average score (-20.220689655172443)\n",
            "Win/lose count 0.4/20.000000000000014. Average score (-20.20000000000003)\n",
            "Win/lose count 0.8/23.900000000000073. Average score (-20.29354838709681)\n",
            "Win/lose count 0.4/20.000000000000014. Average score (-20.271875000000033)\n",
            "Win/lose count 0.4/22.000000000000043. Average score (-20.312121212121244)\n",
            "Win/lose count 0/21.10000000000003. Average score (-20.33529411764709)\n",
            "Win/lose count 0/20.100000000000016. Average score (-20.32857142857146)\n",
            "Win/lose count 1.6/20.700000000000028. Average score (-20.294444444444476)\n",
            "Win/lose count 1.2000000000000002/21.80000000000004. Average score (-20.302702702702735)\n",
            "Win/lose count 0/20.100000000000016. Average score (-20.297368421052663)\n",
            "Win/lose count 0/20.100000000000016. Average score (-20.292307692307723)\n",
            "Win/lose count 1.6/21.70000000000004. Average score (-20.28750000000003)\n",
            "Win/lose count 0/20.100000000000016. Average score (-20.282926829268323)\n",
            "Win/lose count 2.0/20.600000000000026. Average score (-20.242857142857172)\n",
            "Win/lose count 2.0/21.600000000000037. Average score (-20.227906976744215)\n",
            "Win/lose count 0.8/21.90000000000004. Average score (-20.247727272727307)\n",
            "Win/lose count 0/21.100000000000033. Average score (-20.2666666666667)\n",
            "Win/lose count 2.0/19.60000000000001. Average score (-20.208695652173947)\n",
            "Win/lose count 0.8/19.900000000000013. Average score (-20.185106382978756)\n",
            "Win/lose count 0/21.100000000000033. Average score (-20.204166666666698)\n",
            "Win/lose count 0.8/22.900000000000055. Average score (-20.242857142857176)\n",
            "Win/lose count 0.8/19.900000000000013. Average score (-20.220000000000034)\n",
            "Win/lose count 0.4/22.000000000000043. Average score (-20.247058823529446)\n",
            "Win/lose count 1.2000000000000002/20.80000000000003. Average score (-20.234615384615417)\n",
            "Win/lose count 0/20.100000000000016. Average score (-20.232075471698142)\n",
            "Win/lose count 2.4/22.50000000000005. Average score (-20.229629629629656)\n",
            "Win/lose count 0.4/21.00000000000003. Average score (-20.23636363636366)\n",
            "Win/lose count 0/21.100000000000033. Average score (-20.25178571428574)\n",
            "Win/lose count 2.4/19.500000000000007. Average score (-20.1964912280702)\n",
            "Win/lose count 0.4/21.000000000000032. Average score (-20.20344827586209)\n",
            "Win/lose count 1.2000000000000002/20.800000000000026. Average score (-20.19322033898307)\n",
            "Win/lose count 0/21.100000000000033. Average score (-20.208333333333357)\n",
            "Win/lose count 0.4/20.000000000000014. Average score (-20.198360655737726)\n",
            "Win/lose count 1.2000000000000002/19.80000000000001. Average score (-20.17258064516131)\n",
            "Win/lose count 1.2000000000000002/22.800000000000054. Average score (-20.195238095238114)\n",
            "Win/lose count 0.4/20.000000000000014. Average score (-20.185937500000016)\n",
            "Win/lose count 2.4/21.500000000000036. Average score (-20.169230769230783)\n",
            "Win/lose count 0.4/20.000000000000014. Average score (-20.160606060606074)\n",
            "Win/lose count 1.2000000000000002/20.800000000000026. Average score (-20.15223880597016)\n",
            "Win/lose count 0.8/20.900000000000027. Average score (-20.151470588235306)\n",
            "Win/lose count 1.6/19.70000000000001. Average score (-20.121739130434797)\n",
            "Win/lose count 0/21.100000000000033. Average score (-20.1357142857143)\n",
            "Win/lose count 0.8/19.900000000000013. Average score (-20.1211267605634)\n",
            "Win/lose count 0.8/22.900000000000055. Average score (-20.14861111111113)\n",
            "Win/lose count 0/21.100000000000033. Average score (-20.16164383561646)\n",
            "Win/lose count 0.4/21.000000000000032. Average score (-20.167567567567588)\n",
            "Win/lose count 0.4/20.000000000000014. Average score (-20.160000000000018)\n",
            "Win/lose count 1.6/23.700000000000067. Average score (-20.18552631578949)\n",
            "Win/lose count 0/21.100000000000033. Average score (-20.19740259740262)\n",
            "Win/lose count 1.2000000000000002/20.80000000000003. Average score (-20.18974358974361)\n",
            "Win/lose count 0.4/20.000000000000014. Average score (-20.182278481012677)\n",
            "Win/lose count 0.8/20.90000000000003. Average score (-20.18125000000002)\n",
            "Win/lose count 3.5999999999999996/20.200000000000017. Average score (-20.137037037037057)\n",
            "Win/lose count 0/20.100000000000016. Average score (-20.13658536585368)\n",
            "Win/lose count 0.8/21.90000000000004. Average score (-20.148192771084357)\n",
            "Win/lose count 2.0/20.600000000000023. Average score (-20.129761904761928)\n",
            "Win/lose count 0/21.100000000000033. Average score (-20.14117647058826)\n",
            "Win/lose count 2.0/19.60000000000001. Average score (-20.111627906976768)\n",
            "Win/lose count 0.8/21.90000000000004. Average score (-20.122988505747152)\n",
            "Win/lose count 0/21.100000000000033. Average score (-20.134090909090933)\n",
            "Win/lose count 0.4/20.000000000000014. Average score (-20.128089887640474)\n",
            "Win/lose count 3.9999999999999996/19.1. Average score (-20.072222222222244)\n",
            "Win/lose count 0.8/19.900000000000013. Average score (-20.061538461538486)\n",
            "Win/lose count 0/21.10000000000003. Average score (-20.072826086956546)\n",
            "Win/lose count 0.8/19.900000000000013. Average score (-20.062365591397874)\n",
            "Win/lose count 0/21.100000000000033. Average score (-20.073404255319176)\n",
            "Win/lose count 1.6/19.70000000000001. Average score (-20.0526315789474)\n",
            "Win/lose count 0.8/19.900000000000013. Average score (-20.042708333333362)\n",
            "Win/lose count 2.0/19.60000000000001. Average score (-20.017525773195906)\n",
            "Win/lose count 0/21.100000000000033. Average score (-20.028571428571457)\n",
            "Win/lose count 0/20.100000000000016. Average score (-20.029292929292957)\n",
            "Win/lose count 0/20.100000000000016. Average score (-20.030000000000026)\n",
            "Final score: -20.030000000000026\n"
          ],
          "name": "stdout"
        },
        {
          "output_type": "execute_result",
          "data": {
            "text/html": [
              "<video alt=\"test\" controls>\n",
              "                <source src=\"data:video/mp4;base64,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\" type=\"video/mp4\" />\n",
              "             </video>"
            ],
            "text/plain": [
              "<IPython.core.display.HTML object>"
            ]
          },
          "metadata": {
            "tags": []
          },
          "execution_count": 52
        }
      ]
    },
    {
      "cell_type": "markdown",
      "metadata": {
        "id": "swp7HO3yuODz",
        "colab_type": "text"
      },
      "source": [
        "***\n",
        "***\n",
        "__BONUS question__ Use the expert DQN from the previous question to generate some winning games. Train a model that mimicks its behavior. Compare the performances."
      ]
    },
    {
      "cell_type": "markdown",
      "metadata": {
        "id": "jYJItFYEuOD2",
        "colab_type": "text"
      },
      "source": [
        ""
      ]
    },
    {
      "cell_type": "markdown",
      "metadata": {
        "id": "t4hPhL59uOD4",
        "colab_type": "text"
      },
      "source": [
        "***"
      ]
    }
  ]
}